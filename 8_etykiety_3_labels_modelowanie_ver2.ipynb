{
  "cells": [
    {
      "cell_type": "markdown",
      "metadata": {
        "id": "xTSJwin5k-Am"
      },
      "source": [
        "# Normalizacja tekstu"
      ]
    },
    {
      "cell_type": "code",
      "execution_count": 10,
      "metadata": {
        "id": "-qZw4A_rfT7-"
      },
      "outputs": [],
      "source": [
        "import pandas as pd"
      ]
    },
    {
      "cell_type": "code",
      "execution_count": 11,
      "metadata": {
        "id": "xXBhaT-yfT7-"
      },
      "outputs": [],
      "source": [
        "df = pd.read_csv(\"reviews_eda1.csv\")"
      ]
    },
    {
      "cell_type": "code",
      "execution_count": 12,
      "metadata": {
        "id": "JpZk5VqUfT7-",
        "outputId": "62c24059-6ea6-4d3f-c6b8-016010072e95"
      },
      "outputs": [
        {
          "data": {
            "text/plain": [
              "Index(['Unnamed: 0', 'Link', 'Autor', 'Tytuł', 'Data_recenzji',\n",
              "       'Treść_recenzji', 'Średnia_ocen', 'Liczba_ocen', 'Liczba_czytelników',\n",
              "       'Rok_recenzji'],\n",
              "      dtype='object')"
            ]
          },
          "execution_count": 12,
          "metadata": {},
          "output_type": "execute_result"
        }
      ],
      "source": [
        "df.columns"
      ]
    },
    {
      "cell_type": "code",
      "execution_count": null,
      "metadata": {
        "id": "-iX9uxagfT8A"
      },
      "outputs": [],
      "source": [
        "# Sprawdzam język treści - służy do tego biblioteka langdetect, funkcja detect wykrywa języka tekstu na podstawie zawartości tekstu."
      ]
    },
    {
      "cell_type": "code",
      "execution_count": 13,
      "metadata": {
        "id": "ELBPw-9MfT8A"
      },
      "outputs": [],
      "source": [
        "from langdetect import detect"
      ]
    },
    {
      "cell_type": "code",
      "execution_count": 14,
      "metadata": {
        "id": "wYMxtqIvfT8A"
      },
      "outputs": [],
      "source": [
        "df[\"language_reviews\"] = df[\"Treść_recenzji\"].apply(detect)"
      ]
    },
    {
      "cell_type": "code",
      "execution_count": 15,
      "metadata": {
        "id": "_AA8AhSMfT8B",
        "outputId": "888f9565-9b07-4711-dd96-e84f075d41c1"
      },
      "outputs": [
        {
          "data": {
            "text/plain": [
              "language_reviews\n",
              "pl    5962\n",
              "Name: count, dtype: int64"
            ]
          },
          "execution_count": 15,
          "metadata": {},
          "output_type": "execute_result"
        }
      ],
      "source": [
        "df[\"language_reviews\"].value_counts()"
      ]
    },
    {
      "cell_type": "code",
      "execution_count": null,
      "metadata": {
        "id": "LKofa1TAfT8B"
      },
      "outputs": [],
      "source": [
        "# Jak widać powyżej, wszystkie recenzje są w języku polskim.\n",
        "# Kolejny krok to tokenizacja.\n",
        "# Będę korzystała z biblioteki spaCy (wcześniej zrobiłam w nltk, ale spaCy jest lepsza dla PL)."
      ]
    },
    {
      "cell_type": "code",
      "execution_count": null,
      "metadata": {
        "id": "HD6JByF4fT8B"
      },
      "outputs": [],
      "source": [
        "#!python -m spacy download pl_core_news_lg"
      ]
    },
    {
      "cell_type": "code",
      "execution_count": 16,
      "metadata": {
        "id": "3b-OyGlhfT8C"
      },
      "outputs": [],
      "source": [
        "import spacy"
      ]
    },
    {
      "cell_type": "code",
      "execution_count": 17,
      "metadata": {
        "id": "6K4Iwh9LfT8C"
      },
      "outputs": [],
      "source": [
        "nlp = spacy.load(\"pl_core_news_lg\")"
      ]
    },
    {
      "cell_type": "code",
      "execution_count": 18,
      "metadata": {
        "id": "t5QUnkPnfT8C"
      },
      "outputs": [],
      "source": [
        "from spacy.lang.pl.stop_words import STOP_WORDS"
      ]
    },
    {
      "cell_type": "code",
      "execution_count": 19,
      "metadata": {
        "id": "8u7mQs3PfT8C",
        "outputId": "451005b4-311c-4031-f6e7-fb9db4befebb"
      },
      "outputs": [
        {
          "name": "stdout",
          "output_type": "stream",
          "text": [
            "{'dwa', 'zadna', 'kierunku', 'żeby', 'mi', 'toba', 'ktorzy', 'zaden', 'moja', 'wlasnie', 'inny', 'było', 'nie', 'tutaj', 'były', 'bez', 'przed', 'dokad', 'viii', 'nami', 'wami', 'moj', 'tu', 'jeden', 'bylo', 'lecz', 'na', 'natomiast', 'kilku', 'podczas', 'przecież', 'juz', 'niż', 'znowu', 'które', 'go', 'oraz', 'jako', 'ją', 'pani', 'wiele', 'jak', 'godz', 'mało', 'ktorego', 'my', 'cię', 'mogą', 'lub', 'dzis', 'nich', 'powinni', 'czasami', 'jakaś', 'skad', 'zaś', 'caly', 'nim', 'poniewaz', 'on', 'z', 'skąd', 'też', 'mam', 'także', 'byly', 'przez', 'wszystkich', 'vi', 'gdziekolwiek', 'choć', 'razie', 'można', 'jeszcze', 'mu', 'mnie', 'niech', 'kilka', 'której', 'jednym', 'właśnie', 'nic', 'byl', 'cały', 'taka', 'jego', 'według', 'twym', 'im', 'już', 'ktory', 'tam', 'aż', 'iz', 'kto', 'ile', 'mimo', 'tel', 'acz', 'ale', 'po', 'jakiż', 'ok', 'czemu', 'ktorym', 'który', 'ich', 'tobą', 'niego', 'bym', 'poza', 'taki', 'zadnych', 'ta', 'kiedy', 'powinien', 'wszystkim', 'oto', 'owszem', 'oni', 'toteż', 'jakoś', 'natychmiast', 'jakkolwiek', 'aby', 'coraz', 'co', 'czyli', 'dwoje', 'wszyscy', 'przedtem', 'sobie', 'pan', 'swoje', 'wasza', 'tys', 'ponieważ', 'nimi', 'powinna', 'one', 'gdzie', 'gdyż', 'te', 'teraz', 'ja', 'twoim', 'sposób', 'inna', 'aj', 'jedynie', 'sam', 'nad', 'gdyby', 'twoj', 'cała', 'naszych', 'tobie', 'jest', 'od', 'o', 'wszystko', 'u', 'jemu', 'aczkolwiek', 'wielu', 'pana', 'mój', 'kazdy', 'dlaczego', 'daleko', 'byla', 'roku', 'dokąd', 'rowniez', 'został', 'mna', 'iv', 'moi', 'dobrze', 'tym', 'az', 'wasz', 'dosc', 'więc', 'totez', 'twój', 'miedzy', 'prawie', 'takie', 'żadne', 'bo', 'bedzie', 'obok', 'ktora', 'wśród', 'xiii', 'bardzo', 'nia', 'chce', 'ciebie', 'alez', 'zostal', 'twoi', 'możliwe', 'trzeba', 'iż', 'nigdy', 'duzo', 'ku', 'sobą', 'przede', 'ci', 'ty', 'będę', 'ix', 'jej', 'jakie', 'jestem', 'za', 'ktorej', 'do', 'ktorych', 'przy', 'ponad', 'nasi', 'ktokolwiek', 'kimś', 'zapewne', 'również', 'zadne', 'jeśli', 'których', 'będzie', 'albo', 'jednakże', 'no', 'żadna', 'mamy', 'cali', 'i', 'pomimo', 'przeciez', 'we', 'gdyz', 'znow', 'totobą', 'że', 'bynajmniej', 'xii', 'ktos', 'jakichs', 'bowiem', 'mozliwe', 'soba', 'jakiz', 'jedno', 'gdzieś', 'około', 'takze', 'wy', 'może', 'by', 'naszego', 'xi', 'xiv', 'coś', 'moga', 'byli', 'dla', 'wam', 'cala', 'tzw', 'jakas', 'jakis', 'dwaj', 'była', 'niemu', 'powinno', 'nam', 'dlatego', 'czasem', 'będą', 'a', 'sposob', 'ona', 'nasze', 'wasze', 'inne', 'był', 'moze', 'żaden', 'mozna', 'temu', 'cie', 'tej', 'twoje', 'was', 'wtedy', 'jaki', 'tych', 'którego', 'to', 'ani', 'miał', 'tego', 'ze', 'jakichś', 'takich', 'być', 'dziś', 'musi', 'jakos', 'twoja', 'ktoś', 'jedna', 'którzy', 'moim', 'którym', 'niej', 'tę', 'nią', 'jednakze', 'ktore', 'są', 'mną', 'jeżeli', 'ma', 'cokolwiek', 'gdzies', 'xv', 'tylko', 'ach', 'jakby', 'w', 'innych', 'wszystkie', 'vii', 'więcej', 'tak', 'pod', 'ten', 'kims', 'ależ', 'zeby', 'wasi', 'gdy', 'wie', 'bardziej', 'jakiś', 'beda', 'jezeli', 'sie', 'mają', 'dość', 'która', 'zawsze', 'między', 'raz', 'często', 'żadnych', 'nasza', 'ono', 'nawet', 'się', 'nasz', 'niz', 'sama', 'cos', 'dwie', 'czy', 'byc', 'jednak', 'nas', 'je', 'znów', 'każdy', 'moje', 'bede', 'dzisiaj', 'jesli', 'dużo'}\n"
          ]
        }
      ],
      "source": [
        "print(STOP_WORDS)"
      ]
    },
    {
      "cell_type": "markdown",
      "metadata": {
        "id": "tUYKWKSQfT8D"
      },
      "source": [
        "### W związku z tym, że postanowiłma nieco dopasować stopwords na potrzeby tego projektu, musiałam zmodyfikowac listę stopwords, którą proponuje spacy."
      ]
    },
    {
      "cell_type": "code",
      "execution_count": 20,
      "metadata": {
        "id": "K7ilVjf6fT8E"
      },
      "outputs": [],
      "source": [
        "# Pobieram stopwords z wcześniej przygotowanego pliku .txt\n",
        "with open(\"polish_reviews_books.txt\", \"r\", encoding=\"utf-8\") as file:\n",
        "    stopwords_polish = file.read().splitlines()"
      ]
    },
    {
      "cell_type": "code",
      "execution_count": 21,
      "metadata": {
        "id": "NcI5B693fT8E"
      },
      "outputs": [
        {
          "name": "stdout",
          "output_type": "stream",
          "text": [
            "Słowo 'nie' zostało usunięte z listy STOP_WORDS.\n",
            "Słowo 'bez' zostało usunięte z listy STOP_WORDS.\n",
            "Słowo 'a' jest już na liście STOP_WORDS.\n",
            "Słowo 'aby' jest już na liście STOP_WORDS.\n",
            "Słowo 'ach' jest już na liście STOP_WORDS.\n",
            "Słowo 'acz' jest już na liście STOP_WORDS.\n",
            "Słowo 'aczkolwiek' jest już na liście STOP_WORDS.\n",
            "Słowo 'aj' jest już na liście STOP_WORDS.\n",
            "Słowo 'albo' jest już na liście STOP_WORDS.\n",
            "Słowo 'ale' jest już na liście STOP_WORDS.\n",
            "Słowo 'alez' jest już na liście STOP_WORDS.\n",
            "Słowo 'ależ' jest już na liście STOP_WORDS.\n",
            "Słowo 'autor' zostało dodane do listy STOP_WORDS.\n",
            "Słowo 'autora' zostało dodane do listy STOP_WORDS.\n",
            "Słowo 'autorce' zostało dodane do listy STOP_WORDS.\n",
            "Słowo 'autorem' zostało dodane do listy STOP_WORDS.\n",
            "Słowo 'autorka' zostało dodane do listy STOP_WORDS.\n",
            "Słowo 'autorką' zostało dodane do listy STOP_WORDS.\n",
            "Słowo 'autorke' zostało dodane do listy STOP_WORDS.\n",
            "Słowo 'autorkę' zostało dodane do listy STOP_WORDS.\n",
            "Słowo 'autorowi' zostało dodane do listy STOP_WORDS.\n",
            "Słowo 'autorze' zostało dodane do listy STOP_WORDS.\n",
            "Słowo 'az' jest już na liście STOP_WORDS.\n",
            "Słowo 'aż' jest już na liście STOP_WORDS.\n",
            "Słowo 'bardziej' jest już na liście STOP_WORDS.\n",
            "Słowo 'bardzo' jest już na liście STOP_WORDS.\n",
            "Słowo 'beda' jest już na liście STOP_WORDS.\n",
            "Słowo 'bede' jest już na liście STOP_WORDS.\n",
            "Słowo 'bedzie' jest już na liście STOP_WORDS.\n",
            "Słowo 'będą' jest już na liście STOP_WORDS.\n",
            "Słowo 'będę' jest już na liście STOP_WORDS.\n",
            "Słowo 'będzie' jest już na liście STOP_WORDS.\n",
            "Słowo 'bo' jest już na liście STOP_WORDS.\n",
            "Słowo 'bohater' zostało dodane do listy STOP_WORDS.\n",
            "Słowo 'bohatera' zostało dodane do listy STOP_WORDS.\n",
            "Słowo 'bohaterem' zostało dodane do listy STOP_WORDS.\n",
            "Słowo 'bohaterowi' zostało dodane do listy STOP_WORDS.\n",
            "Słowo 'bohaterze' zostało dodane do listy STOP_WORDS.\n",
            "Słowo 'bohaterów' zostało dodane do listy STOP_WORDS.\n",
            "Słowo 'bohaterow' zostało dodane do listy STOP_WORDS.\n",
            "Słowo 'bowiem' jest już na liście STOP_WORDS.\n",
            "Słowo 'by' jest już na liście STOP_WORDS.\n",
            "Słowo 'byc' jest już na liście STOP_WORDS.\n",
            "Słowo 'być' jest już na liście STOP_WORDS.\n",
            "Słowo 'byl' jest już na liście STOP_WORDS.\n",
            "Słowo 'byla' jest już na liście STOP_WORDS.\n",
            "Słowo 'byli' jest już na liście STOP_WORDS.\n",
            "Słowo 'bylo' jest już na liście STOP_WORDS.\n",
            "Słowo 'byly' jest już na liście STOP_WORDS.\n",
            "Słowo 'był' jest już na liście STOP_WORDS.\n",
            "Słowo 'była' jest już na liście STOP_WORDS.\n",
            "Słowo 'było' jest już na liście STOP_WORDS.\n",
            "Słowo 'były' jest już na liście STOP_WORDS.\n",
            "Słowo 'bym' jest już na liście STOP_WORDS.\n",
            "Słowo 'bynajmniej' jest już na liście STOP_WORDS.\n",
            "Słowo 'cala' jest już na liście STOP_WORDS.\n",
            "Słowo 'cali' jest już na liście STOP_WORDS.\n",
            "Słowo 'caly' jest już na liście STOP_WORDS.\n",
            "Słowo 'cała' jest już na liście STOP_WORDS.\n",
            "Słowo 'cały' jest już na liście STOP_WORDS.\n",
            "Słowo 'chce' jest już na liście STOP_WORDS.\n",
            "Słowo 'choć' jest już na liście STOP_WORDS.\n",
            "Słowo 'ci' jest już na liście STOP_WORDS.\n",
            "Słowo 'cie' jest już na liście STOP_WORDS.\n",
            "Słowo 'ciebie' jest już na liście STOP_WORDS.\n",
            "Słowo 'cię' jest już na liście STOP_WORDS.\n",
            "Słowo 'co' jest już na liście STOP_WORDS.\n",
            "Słowo 'cokolwiek' jest już na liście STOP_WORDS.\n",
            "Słowo 'coraz' jest już na liście STOP_WORDS.\n",
            "Słowo 'cos' jest już na liście STOP_WORDS.\n",
            "Słowo 'coś' jest już na liście STOP_WORDS.\n",
            "Słowo 'czasami' jest już na liście STOP_WORDS.\n",
            "Słowo 'czasem' jest już na liście STOP_WORDS.\n",
            "Słowo 'czemu' jest już na liście STOP_WORDS.\n",
            "Słowo 'często' jest już na liście STOP_WORDS.\n",
            "Słowo 'czy' jest już na liście STOP_WORDS.\n",
            "Słowo 'czyli' jest już na liście STOP_WORDS.\n",
            "Słowo 'czytelnik' zostało dodane do listy STOP_WORDS.\n",
            "Słowo 'czytelnika' zostało dodane do listy STOP_WORDS.\n",
            "Słowo 'czytelnikiem' zostało dodane do listy STOP_WORDS.\n",
            "Słowo 'czytelniku' zostało dodane do listy STOP_WORDS.\n",
            "Słowo 'daleko' jest już na liście STOP_WORDS.\n",
            "Słowo 'deda' zostało dodane do listy STOP_WORDS.\n",
            "Słowo 'dla' jest już na liście STOP_WORDS.\n",
            "Słowo 'dlaczego' jest już na liście STOP_WORDS.\n",
            "Słowo 'dlatego' jest już na liście STOP_WORDS.\n",
            "Słowo 'do' jest już na liście STOP_WORDS.\n",
            "Słowo 'dobrze' jest już na liście STOP_WORDS.\n",
            "Słowo 'dokad' jest już na liście STOP_WORDS.\n",
            "Słowo 'dokąd' jest już na liście STOP_WORDS.\n",
            "Słowo 'dosc' jest już na liście STOP_WORDS.\n",
            "Słowo 'dość' jest już na liście STOP_WORDS.\n",
            "Słowo 'dr' zostało dodane do listy STOP_WORDS.\n",
            "Słowo 'duzo' jest już na liście STOP_WORDS.\n",
            "Słowo 'dużo' jest już na liście STOP_WORDS.\n",
            "Słowo 'dwa' jest już na liście STOP_WORDS.\n",
            "Słowo 'dwaj' jest już na liście STOP_WORDS.\n",
            "Słowo 'dwie' jest już na liście STOP_WORDS.\n",
            "Słowo 'dwoch' zostało dodane do listy STOP_WORDS.\n",
            "Słowo 'dwoje' jest już na liście STOP_WORDS.\n",
            "Słowo 'dwóch' zostało dodane do listy STOP_WORDS.\n",
            "Słowo 'dzis' jest już na liście STOP_WORDS.\n",
            "Słowo 'dzisiaj' jest już na liście STOP_WORDS.\n",
            "Słowo 'dziś' jest już na liście STOP_WORDS.\n",
            "Słowo 'gdy' jest już na liście STOP_WORDS.\n",
            "Słowo 'gdyby' jest już na liście STOP_WORDS.\n",
            "Słowo 'gdyz' jest już na liście STOP_WORDS.\n",
            "Słowo 'gdyż' jest już na liście STOP_WORDS.\n",
            "Słowo 'gdzie' jest już na liście STOP_WORDS.\n",
            "Słowo 'gdziekolwiek' jest już na liście STOP_WORDS.\n",
            "Słowo 'gdzies' jest już na liście STOP_WORDS.\n",
            "Słowo 'gdzieś' jest już na liście STOP_WORDS.\n",
            "Słowo 'go' jest już na liście STOP_WORDS.\n",
            "Słowo 'godz' jest już na liście STOP_WORDS.\n",
            "Słowo 'hab' zostało dodane do listy STOP_WORDS.\n",
            "Słowo 'i' jest już na liście STOP_WORDS.\n",
            "Słowo 'ich' jest już na liście STOP_WORDS.\n",
            "Słowo 'ii' zostało dodane do listy STOP_WORDS.\n",
            "Słowo 'iii' zostało dodane do listy STOP_WORDS.\n",
            "Słowo 'ile' jest już na liście STOP_WORDS.\n",
            "Słowo 'im' jest już na liście STOP_WORDS.\n",
            "Słowo 'inna' jest już na liście STOP_WORDS.\n",
            "Słowo 'inne' jest już na liście STOP_WORDS.\n",
            "Słowo 'inny' jest już na liście STOP_WORDS.\n",
            "Słowo 'innych' jest już na liście STOP_WORDS.\n",
            "Słowo 'inż' zostało dodane do listy STOP_WORDS.\n",
            "Słowo 'iv' jest już na liście STOP_WORDS.\n",
            "Słowo 'ix' jest już na liście STOP_WORDS.\n",
            "Słowo 'iz' jest już na liście STOP_WORDS.\n",
            "Słowo 'iż' jest już na liście STOP_WORDS.\n",
            "Słowo 'ja' jest już na liście STOP_WORDS.\n",
            "Słowo 'jak' jest już na liście STOP_WORDS.\n",
            "Słowo 'jakas' jest już na liście STOP_WORDS.\n",
            "Słowo 'jakaś' jest już na liście STOP_WORDS.\n",
            "Słowo 'jakby' jest już na liście STOP_WORDS.\n",
            "Słowo 'jaki' jest już na liście STOP_WORDS.\n",
            "Słowo 'jakichs' jest już na liście STOP_WORDS.\n",
            "Słowo 'jakichś' jest już na liście STOP_WORDS.\n",
            "Słowo 'jakie' jest już na liście STOP_WORDS.\n",
            "Słowo 'jakikolwiek' zostało dodane do listy STOP_WORDS.\n",
            "Słowo 'jakis' jest już na liście STOP_WORDS.\n",
            "Słowo 'jakiś' jest już na liście STOP_WORDS.\n",
            "Słowo 'jakiz' jest już na liście STOP_WORDS.\n",
            "Słowo 'jakiż' jest już na liście STOP_WORDS.\n",
            "Słowo 'jakkolwiek' jest już na liście STOP_WORDS.\n",
            "Słowo 'jako' jest już na liście STOP_WORDS.\n",
            "Słowo 'jakos' jest już na liście STOP_WORDS.\n",
            "Słowo 'jakoś' jest już na liście STOP_WORDS.\n",
            "Słowo 'jakze' zostało dodane do listy STOP_WORDS.\n",
            "Słowo 'jakże' zostało dodane do listy STOP_WORDS.\n",
            "Słowo 'ją' jest już na liście STOP_WORDS.\n",
            "Słowo 'je' jest już na liście STOP_WORDS.\n",
            "Słowo 'jeden' jest już na liście STOP_WORDS.\n",
            "Słowo 'jedna' jest już na liście STOP_WORDS.\n",
            "Słowo 'jednak' jest już na liście STOP_WORDS.\n",
            "Słowo 'jednakze' jest już na liście STOP_WORDS.\n",
            "Słowo 'jednakże' jest już na liście STOP_WORDS.\n",
            "Słowo 'jedno' jest już na liście STOP_WORDS.\n",
            "Słowo 'jednym' jest już na liście STOP_WORDS.\n",
            "Słowo 'jedynie' jest już na liście STOP_WORDS.\n",
            "Słowo 'jego' jest już na liście STOP_WORDS.\n",
            "Słowo 'jej' jest już na liście STOP_WORDS.\n",
            "Słowo 'jemu' jest już na liście STOP_WORDS.\n",
            "Słowo 'jesli' jest już na liście STOP_WORDS.\n",
            "Słowo 'jest' jest już na liście STOP_WORDS.\n",
            "Słowo 'jestem' jest już na liście STOP_WORDS.\n",
            "Słowo 'jestesmy' zostało dodane do listy STOP_WORDS.\n",
            "Słowo 'jesteśmy' zostało dodane do listy STOP_WORDS.\n",
            "Słowo 'jeszcze' jest już na liście STOP_WORDS.\n",
            "Słowo 'jeśli' jest już na liście STOP_WORDS.\n",
            "Słowo 'jezeli' jest już na liście STOP_WORDS.\n",
            "Słowo 'jeżeli' jest już na liście STOP_WORDS.\n",
            "Słowo 'juz' jest już na liście STOP_WORDS.\n",
            "Słowo 'już' jest już na liście STOP_WORDS.\n",
            "Słowo 'kazda' zostało dodane do listy STOP_WORDS.\n",
            "Słowo 'kazde' zostało dodane do listy STOP_WORDS.\n",
            "Słowo 'kazdego' zostało dodane do listy STOP_WORDS.\n",
            "Słowo 'kazdy' jest już na liście STOP_WORDS.\n",
            "Słowo 'kazdym' zostało dodane do listy STOP_WORDS.\n",
            "Słowo 'każda' zostało dodane do listy STOP_WORDS.\n",
            "Słowo 'każde' zostało dodane do listy STOP_WORDS.\n",
            "Słowo 'każdego' zostało dodane do listy STOP_WORDS.\n",
            "Słowo 'każdy' jest już na liście STOP_WORDS.\n",
            "Słowo 'każdym' zostało dodane do listy STOP_WORDS.\n",
            "Słowo 'kiedy' jest już na liście STOP_WORDS.\n",
            "Słowo 'kierunku' jest już na liście STOP_WORDS.\n",
            "Słowo 'kilka' jest już na liście STOP_WORDS.\n",
            "Słowo 'kilku' jest już na liście STOP_WORDS.\n",
            "Słowo 'kims' jest już na liście STOP_WORDS.\n",
            "Słowo 'kimś' jest już na liście STOP_WORDS.\n",
            "Słowo 'ksiazce' zostało dodane do listy STOP_WORDS.\n",
            "Słowo 'ksiazka' zostało dodane do listy STOP_WORDS.\n",
            "Słowo 'ksiazką' zostało dodane do listy STOP_WORDS.\n",
            "Słowo 'ksiazki' zostało dodane do listy STOP_WORDS.\n",
            "Słowo 'ksiażce' zostało dodane do listy STOP_WORDS.\n",
            "Słowo 'ksiażka' zostało dodane do listy STOP_WORDS.\n",
            "Słowo 'ksiażki' zostało dodane do listy STOP_WORDS.\n",
            "Słowo 'ksiązce' zostało dodane do listy STOP_WORDS.\n",
            "Słowo 'ksiązka' zostało dodane do listy STOP_WORDS.\n",
            "Słowo 'ksiązki' zostało dodane do listy STOP_WORDS.\n",
            "Słowo 'książce' zostało dodane do listy STOP_WORDS.\n",
            "Słowo 'książka' zostało dodane do listy STOP_WORDS.\n",
            "Słowo 'książką' zostało dodane do listy STOP_WORDS.\n",
            "Słowo 'książki' zostało dodane do listy STOP_WORDS.\n",
            "Słowo 'książkę' zostało dodane do listy STOP_WORDS.\n",
            "Słowo 'książke' zostało dodane do listy STOP_WORDS.\n",
            "Słowo 'ksiązkę' zostało dodane do listy STOP_WORDS.\n",
            "Słowo 'ksiązke' zostało dodane do listy STOP_WORDS.\n",
            "Słowo 'ksiazke' zostało dodane do listy STOP_WORDS.\n",
            "Słowo 'ksiazkę' zostało dodane do listy STOP_WORDS.\n",
            "Słowo 'ksiażke' zostało dodane do listy STOP_WORDS.\n",
            "Słowo 'kto' jest już na liście STOP_WORDS.\n",
            "Słowo 'ktokolwiek' jest już na liście STOP_WORDS.\n",
            "Słowo 'ktora' jest już na liście STOP_WORDS.\n",
            "Słowo 'ktorą' zostało dodane do listy STOP_WORDS.\n",
            "Słowo 'ktore' jest już na liście STOP_WORDS.\n",
            "Słowo 'ktorego' jest już na liście STOP_WORDS.\n",
            "Słowo 'ktorej' jest już na liście STOP_WORDS.\n",
            "Słowo 'ktory' jest już na liście STOP_WORDS.\n",
            "Słowo 'ktorych' jest już na liście STOP_WORDS.\n",
            "Słowo 'ktorym' jest już na liście STOP_WORDS.\n",
            "Słowo 'ktorzy' jest już na liście STOP_WORDS.\n",
            "Słowo 'ktos' jest już na liście STOP_WORDS.\n",
            "Słowo 'ktoś' jest już na liście STOP_WORDS.\n",
            "Słowo 'która' jest już na liście STOP_WORDS.\n",
            "Słowo 'którą' zostało dodane do listy STOP_WORDS.\n",
            "Słowo 'które' jest już na liście STOP_WORDS.\n",
            "Słowo 'którego' jest już na liście STOP_WORDS.\n",
            "Słowo 'której' jest już na liście STOP_WORDS.\n",
            "Słowo 'który' jest już na liście STOP_WORDS.\n",
            "Słowo 'których' jest już na liście STOP_WORDS.\n",
            "Słowo 'którym' jest już na liście STOP_WORDS.\n",
            "Słowo 'którzy' jest już na liście STOP_WORDS.\n",
            "Słowo 'ku' jest już na liście STOP_WORDS.\n",
            "Słowo 'lat' zostało dodane do listy STOP_WORDS.\n",
            "Słowo 'lecz' jest już na liście STOP_WORDS.\n",
            "Słowo 'lektura' zostało dodane do listy STOP_WORDS.\n",
            "Słowo 'lekturą' zostało dodane do listy STOP_WORDS.\n",
            "Słowo 'lekturze' zostało dodane do listy STOP_WORDS.\n",
            "Słowo 'lub' jest już na liście STOP_WORDS.\n",
            "Słowo 'ma' jest już na liście STOP_WORDS.\n",
            "Słowo 'mają' jest już na liście STOP_WORDS.\n",
            "Słowo 'mało' jest już na liście STOP_WORDS.\n",
            "Słowo 'mam' jest już na liście STOP_WORDS.\n",
            "Słowo 'mamy' jest już na liście STOP_WORDS.\n",
            "Słowo 'mgr' zostało dodane do listy STOP_WORDS.\n",
            "Słowo 'mi' jest już na liście STOP_WORDS.\n",
            "Słowo 'miał' jest już na liście STOP_WORDS.\n",
            "Słowo 'miedzy' jest już na liście STOP_WORDS.\n",
            "Słowo 'między' jest już na liście STOP_WORDS.\n",
            "Słowo 'mimo' jest już na liście STOP_WORDS.\n",
            "Słowo 'mna' jest już na liście STOP_WORDS.\n",
            "Słowo 'mną' jest już na liście STOP_WORDS.\n",
            "Słowo 'mnie' jest już na liście STOP_WORDS.\n",
            "Słowo 'moga' jest już na liście STOP_WORDS.\n",
            "Słowo 'mogą' jest już na liście STOP_WORDS.\n",
            "Słowo 'moi' jest już na liście STOP_WORDS.\n",
            "Słowo 'moim' jest już na liście STOP_WORDS.\n",
            "Słowo 'moj' jest już na liście STOP_WORDS.\n",
            "Słowo 'moja' jest już na liście STOP_WORDS.\n",
            "Słowo 'moje' jest już na liście STOP_WORDS.\n",
            "Słowo 'moze' jest już na liście STOP_WORDS.\n",
            "Słowo 'mozliwe' jest już na liście STOP_WORDS.\n",
            "Słowo 'mozna' jest już na liście STOP_WORDS.\n",
            "Słowo 'może' jest już na liście STOP_WORDS.\n",
            "Słowo 'możliwe' jest już na liście STOP_WORDS.\n",
            "Słowo 'można' jest już na liście STOP_WORDS.\n",
            "Słowo 'mój' jest już na liście STOP_WORDS.\n",
            "Słowo 'mu' jest już na liście STOP_WORDS.\n",
            "Słowo 'musi' jest już na liście STOP_WORDS.\n",
            "Słowo 'my' jest już na liście STOP_WORDS.\n",
            "Słowo 'na' jest już na liście STOP_WORDS.\n",
            "Słowo 'nad' jest już na liście STOP_WORDS.\n",
            "Słowo 'nam' jest już na liście STOP_WORDS.\n",
            "Słowo 'nami' jest już na liście STOP_WORDS.\n",
            "Słowo 'nas' jest już na liście STOP_WORDS.\n",
            "Słowo 'nasi' jest już na liście STOP_WORDS.\n",
            "Słowo 'nasz' jest już na liście STOP_WORDS.\n",
            "Słowo 'nasza' jest już na liście STOP_WORDS.\n",
            "Słowo 'nasze' jest już na liście STOP_WORDS.\n",
            "Słowo 'naszego' jest już na liście STOP_WORDS.\n",
            "Słowo 'naszych' jest już na liście STOP_WORDS.\n",
            "Słowo 'natomiast' jest już na liście STOP_WORDS.\n",
            "Słowo 'natychmiast' jest już na liście STOP_WORDS.\n",
            "Słowo 'nawet' jest już na liście STOP_WORDS.\n",
            "Słowo 'nia' jest już na liście STOP_WORDS.\n",
            "Słowo 'nią' jest już na liście STOP_WORDS.\n",
            "Słowo 'nic' jest już na liście STOP_WORDS.\n",
            "Słowo 'nich' jest już na liście STOP_WORDS.\n",
            "Słowo 'niech' jest już na liście STOP_WORDS.\n",
            "Słowo 'niego' jest już na liście STOP_WORDS.\n",
            "Słowo 'niej' jest już na liście STOP_WORDS.\n",
            "Słowo 'niemu' jest już na liście STOP_WORDS.\n",
            "Słowo 'nim' jest już na liście STOP_WORDS.\n",
            "Słowo 'nimi' jest już na liście STOP_WORDS.\n",
            "Słowo 'niz' jest już na liście STOP_WORDS.\n",
            "Słowo 'niż' jest już na liście STOP_WORDS.\n",
            "Słowo 'no' jest już na liście STOP_WORDS.\n",
            "Słowo 'nowe' zostało dodane do listy STOP_WORDS.\n",
            "Słowo 'np' zostało dodane do listy STOP_WORDS.\n",
            "Słowo 'nr' zostało dodane do listy STOP_WORDS.\n",
            "Słowo 'o' jest już na liście STOP_WORDS.\n",
            "Słowo 'o.o.' zostało dodane do listy STOP_WORDS.\n",
            "Słowo 'obok' jest już na liście STOP_WORDS.\n",
            "Słowo 'od' jest już na liście STOP_WORDS.\n",
            "Słowo 'ok' jest już na liście STOP_WORDS.\n",
            "Słowo 'około' jest już na liście STOP_WORDS.\n",
            "Słowo 'on' jest już na liście STOP_WORDS.\n",
            "Słowo 'ona' jest już na liście STOP_WORDS.\n",
            "Słowo 'one' jest już na liście STOP_WORDS.\n",
            "Słowo 'oni' jest już na liście STOP_WORDS.\n",
            "Słowo 'ono' jest już na liście STOP_WORDS.\n",
            "Słowo 'oraz' jest już na liście STOP_WORDS.\n",
            "Słowo 'oto' jest już na liście STOP_WORDS.\n",
            "Słowo 'owszem' jest już na liście STOP_WORDS.\n",
            "Słowo 'pan' jest już na liście STOP_WORDS.\n",
            "Słowo 'pana' jest już na liście STOP_WORDS.\n",
            "Słowo 'pani' jest już na liście STOP_WORDS.\n",
            "Słowo 'pisarce' zostało dodane do listy STOP_WORDS.\n",
            "Słowo 'pisarka' zostało dodane do listy STOP_WORDS.\n",
            "Słowo 'pisarką' zostało dodane do listy STOP_WORDS.\n",
            "Słowo 'pisarke' zostało dodane do listy STOP_WORDS.\n",
            "Słowo 'pisarkę' zostało dodane do listy STOP_WORDS.\n",
            "Słowo 'pisarz' zostało dodane do listy STOP_WORDS.\n",
            "Słowo 'pisarzem' zostało dodane do listy STOP_WORDS.\n",
            "Słowo 'pisarzowi' zostało dodane do listy STOP_WORDS.\n",
            "Słowo 'pisarzu' zostało dodane do listy STOP_WORDS.\n",
            "Słowo 'pl' zostało dodane do listy STOP_WORDS.\n",
            "Słowo 'po' jest już na liście STOP_WORDS.\n",
            "Słowo 'pod' jest już na liście STOP_WORDS.\n",
            "Słowo 'podczas' jest już na liście STOP_WORDS.\n",
            "Słowo 'poiweśc' zostało dodane do listy STOP_WORDS.\n",
            "Słowo 'pomimo' jest już na liście STOP_WORDS.\n",
            "Słowo 'ponad' jest już na liście STOP_WORDS.\n",
            "Słowo 'poniewaz' jest już na liście STOP_WORDS.\n",
            "Słowo 'ponieważ' jest już na liście STOP_WORDS.\n",
            "Słowo 'popieram' zostało dodane do listy STOP_WORDS.\n",
            "Słowo 'popierać' zostało dodane do listy STOP_WORDS.\n",
            "Słowo 'postac' zostało dodane do listy STOP_WORDS.\n",
            "Słowo 'postaci' zostało dodane do listy STOP_WORDS.\n",
            "Słowo 'postacia' zostało dodane do listy STOP_WORDS.\n",
            "Słowo 'postacią' zostało dodane do listy STOP_WORDS.\n",
            "Słowo 'postać' zostało dodane do listy STOP_WORDS.\n",
            "Słowo 'powiesc' zostało dodane do listy STOP_WORDS.\n",
            "Słowo 'powiesci' zostało dodane do listy STOP_WORDS.\n",
            "Słowo 'powiescia' zostało dodane do listy STOP_WORDS.\n",
            "Słowo 'powiescią' zostało dodane do listy STOP_WORDS.\n",
            "Słowo 'powieści' zostało dodane do listy STOP_WORDS.\n",
            "Słowo 'powieścia' zostało dodane do listy STOP_WORDS.\n",
            "Słowo 'powieścią' zostało dodane do listy STOP_WORDS.\n",
            "Słowo 'powieść' zostało dodane do listy STOP_WORDS.\n",
            "Słowo 'powinien' jest już na liście STOP_WORDS.\n",
            "Słowo 'powinna' jest już na liście STOP_WORDS.\n",
            "Słowo 'powinni' jest już na liście STOP_WORDS.\n",
            "Słowo 'powinno' jest już na liście STOP_WORDS.\n",
            "Słowo 'poza' jest już na liście STOP_WORDS.\n",
            "Słowo 'prawie' jest już na liście STOP_WORDS.\n",
            "Słowo 'prof' zostało dodane do listy STOP_WORDS.\n",
            "Słowo 'przeciez' jest już na liście STOP_WORDS.\n",
            "Słowo 'przecież' jest już na liście STOP_WORDS.\n",
            "Słowo 'przed' jest już na liście STOP_WORDS.\n",
            "Słowo 'przede' jest już na liście STOP_WORDS.\n",
            "Słowo 'przedtem' jest już na liście STOP_WORDS.\n",
            "Słowo 'przez' jest już na liście STOP_WORDS.\n",
            "Słowo 'przy' jest już na liście STOP_WORDS.\n",
            "Słowo 'raz' jest już na liście STOP_WORDS.\n",
            "Słowo 'razie' jest już na liście STOP_WORDS.\n",
            "Słowo 'roku' jest już na liście STOP_WORDS.\n",
            "Słowo 'rowniez' jest już na liście STOP_WORDS.\n",
            "Słowo 'również' jest już na liście STOP_WORDS.\n",
            "Słowo 'sam' jest już na liście STOP_WORDS.\n",
            "Słowo 'sama' jest już na liście STOP_WORDS.\n",
            "Słowo 'są' jest już na liście STOP_WORDS.\n",
            "Słowo 'sie' jest już na liście STOP_WORDS.\n",
            "Słowo 'siebie' zostało dodane do listy STOP_WORDS.\n",
            "Słowo 'się' jest już na liście STOP_WORDS.\n",
            "Słowo 'skad' jest już na liście STOP_WORDS.\n",
            "Słowo 'skąd' jest już na liście STOP_WORDS.\n",
            "Słowo 'soba' jest już na liście STOP_WORDS.\n",
            "Słowo 'sobą' jest już na liście STOP_WORDS.\n",
            "Słowo 'sobie' jest już na liście STOP_WORDS.\n",
            "Słowo 'sposob' jest już na liście STOP_WORDS.\n",
            "Słowo 'sposób' jest już na liście STOP_WORDS.\n",
            "Słowo 'swoich' zostało dodane do listy STOP_WORDS.\n",
            "Słowo 'swoim' zostało dodane do listy STOP_WORDS.\n",
            "Słowo 'swoja' zostało dodane do listy STOP_WORDS.\n",
            "Słowo 'swoją' zostało dodane do listy STOP_WORDS.\n",
            "Słowo 'swoje' jest już na liście STOP_WORDS.\n",
            "Słowo 'swojego' zostało dodane do listy STOP_WORDS.\n",
            "Słowo 'swojej' zostało dodane do listy STOP_WORDS.\n",
            "Słowo 'ta' jest już na liście STOP_WORDS.\n",
            "Słowo 'tak' jest już na liście STOP_WORDS.\n",
            "Słowo 'taka' jest już na liście STOP_WORDS.\n",
            "Słowo 'taki' jest już na liście STOP_WORDS.\n",
            "Słowo 'takich' jest już na liście STOP_WORDS.\n",
            "Słowo 'takie' jest już na liście STOP_WORDS.\n",
            "Słowo 'takze' jest już na liście STOP_WORDS.\n",
            "Słowo 'także' jest już na liście STOP_WORDS.\n",
            "Słowo 'tam' jest już na liście STOP_WORDS.\n",
            "Słowo 'tą' zostało dodane do listy STOP_WORDS.\n",
            "Słowo 'te' jest już na liście STOP_WORDS.\n",
            "Słowo 'tego' jest już na liście STOP_WORDS.\n",
            "Słowo 'tej' jest już na liście STOP_WORDS.\n",
            "Słowo 'tel' jest już na liście STOP_WORDS.\n",
            "Słowo 'temu' jest już na liście STOP_WORDS.\n",
            "Słowo 'ten' jest już na liście STOP_WORDS.\n",
            "Słowo 'teraz' jest już na liście STOP_WORDS.\n",
            "Słowo 'też' jest już na liście STOP_WORDS.\n",
            "Słowo 'tę' jest już na liście STOP_WORDS.\n",
            "Słowo 'to' jest już na liście STOP_WORDS.\n",
            "Słowo 'toba' jest już na liście STOP_WORDS.\n",
            "Słowo 'tobą' jest już na liście STOP_WORDS.\n",
            "Słowo 'tobie' jest już na liście STOP_WORDS.\n",
            "Słowo 'totez' jest już na liście STOP_WORDS.\n",
            "Słowo 'toteż' jest już na liście STOP_WORDS.\n",
            "Słowo 'totobą' jest już na liście STOP_WORDS.\n",
            "Słowo 'trzeba' jest już na liście STOP_WORDS.\n",
            "Słowo 'tu' jest już na liście STOP_WORDS.\n",
            "Słowo 'tutaj' jest już na liście STOP_WORDS.\n",
            "Słowo 'tweetnij' zostało dodane do listy STOP_WORDS.\n",
            "Słowo 'twoi' jest już na liście STOP_WORDS.\n",
            "Słowo 'twoim' jest już na liście STOP_WORDS.\n",
            "Słowo 'twoj' jest już na liście STOP_WORDS.\n",
            "Słowo 'twoja' jest już na liście STOP_WORDS.\n",
            "Słowo 'twoje' jest już na liście STOP_WORDS.\n",
            "Słowo 'twój' jest już na liście STOP_WORDS.\n",
            "Słowo 'twym' jest już na liście STOP_WORDS.\n",
            "Słowo 'ty' jest już na liście STOP_WORDS.\n",
            "Słowo 'tych' jest już na liście STOP_WORDS.\n",
            "Słowo 'tyle' zostało dodane do listy STOP_WORDS.\n",
            "Słowo 'tylko' jest już na liście STOP_WORDS.\n",
            "Słowo 'tym' jest już na liście STOP_WORDS.\n",
            "Słowo 'tymi' zostało dodane do listy STOP_WORDS.\n",
            "Słowo 'tys' jest już na liście STOP_WORDS.\n",
            "Słowo 'tzw' jest już na liście STOP_WORDS.\n",
            "Słowo 'u' jest już na liście STOP_WORDS.\n",
            "Słowo 'ul' zostało dodane do listy STOP_WORDS.\n",
            "Słowo 'vi' jest już na liście STOP_WORDS.\n",
            "Słowo 'vii' jest już na liście STOP_WORDS.\n",
            "Słowo 'viii' jest już na liście STOP_WORDS.\n",
            "Słowo 'vol' zostało dodane do listy STOP_WORDS.\n",
            "Słowo 'w' jest już na liście STOP_WORDS.\n",
            "Słowo 'wam' jest już na liście STOP_WORDS.\n",
            "Słowo 'wami' jest już na liście STOP_WORDS.\n",
            "Słowo 'was' jest już na liście STOP_WORDS.\n",
            "Słowo 'wasi' jest już na liście STOP_WORDS.\n",
            "Słowo 'wasz' jest już na liście STOP_WORDS.\n",
            "Słowo 'wasza' jest już na liście STOP_WORDS.\n",
            "Słowo 'wasze' jest już na liście STOP_WORDS.\n",
            "Słowo 'we' jest już na liście STOP_WORDS.\n",
            "Słowo 'według' jest już na liście STOP_WORDS.\n",
            "Słowo 'wg' zostało dodane do listy STOP_WORDS.\n",
            "Słowo 'wie' jest już na liście STOP_WORDS.\n",
            "Słowo 'wiele' jest już na liście STOP_WORDS.\n",
            "Słowo 'wielu' jest już na liście STOP_WORDS.\n",
            "Słowo 'więc' jest już na liście STOP_WORDS.\n",
            "Słowo 'więcej' jest już na liście STOP_WORDS.\n",
            "Słowo 'wlasnie' jest już na liście STOP_WORDS.\n",
            "Słowo 'właśnie' jest już na liście STOP_WORDS.\n",
            "Słowo 'wsrod' zostało dodane do listy STOP_WORDS.\n",
            "Słowo 'wsród' zostało dodane do listy STOP_WORDS.\n",
            "Słowo 'wszyscy' jest już na liście STOP_WORDS.\n",
            "Słowo 'wszystkich' jest już na liście STOP_WORDS.\n",
            "Słowo 'wszystkie' jest już na liście STOP_WORDS.\n",
            "Słowo 'wszystkiemu' zostało dodane do listy STOP_WORDS.\n",
            "Słowo 'wszystkim' jest już na liście STOP_WORDS.\n",
            "Słowo 'wszystko' jest już na liście STOP_WORDS.\n",
            "Słowo 'wśrod' zostało dodane do listy STOP_WORDS.\n",
            "Słowo 'wśród' jest już na liście STOP_WORDS.\n",
            "Słowo 'wtedy' jest już na liście STOP_WORDS.\n",
            "Słowo 'www' zostało dodane do listy STOP_WORDS.\n",
            "Słowo 'wy' jest już na liście STOP_WORDS.\n",
            "Słowo 'xi' jest już na liście STOP_WORDS.\n",
            "Słowo 'xii' jest już na liście STOP_WORDS.\n",
            "Słowo 'xiii' jest już na liście STOP_WORDS.\n",
            "Słowo 'xiv' jest już na liście STOP_WORDS.\n",
            "Słowo 'xv' jest już na liście STOP_WORDS.\n",
            "Słowo 'z' jest już na liście STOP_WORDS.\n",
            "Słowo 'za' jest już na liście STOP_WORDS.\n",
            "Słowo 'zaden' jest już na liście STOP_WORDS.\n",
            "Słowo 'zadna' jest już na liście STOP_WORDS.\n",
            "Słowo 'zadne' jest już na liście STOP_WORDS.\n",
            "Słowo 'zadnych' jest już na liście STOP_WORDS.\n",
            "Słowo 'zapewne' jest już na liście STOP_WORDS.\n",
            "Słowo 'zaś' jest już na liście STOP_WORDS.\n",
            "Słowo 'zawsze' jest już na liście STOP_WORDS.\n",
            "Słowo 'ze' jest już na liście STOP_WORDS.\n",
            "Słowo 'zeby' jest już na liście STOP_WORDS.\n",
            "Słowo 'zeznowu' zostało dodane do listy STOP_WORDS.\n",
            "Słowo 'zl' zostało dodane do listy STOP_WORDS.\n",
            "Słowo 'zł' zostało dodane do listy STOP_WORDS.\n",
            "Słowo 'znow' jest już na liście STOP_WORDS.\n",
            "Słowo 'znowu' jest już na liście STOP_WORDS.\n",
            "Słowo 'znów' jest już na liście STOP_WORDS.\n",
            "Słowo 'zostal' jest już na liście STOP_WORDS.\n",
            "Słowo 'został' jest już na liście STOP_WORDS.\n",
            "Słowo 'żaden' jest już na liście STOP_WORDS.\n",
            "Słowo 'żadna' jest już na liście STOP_WORDS.\n",
            "Słowo 'żadne' jest już na liście STOP_WORDS.\n",
            "Słowo 'żadnych' jest już na liście STOP_WORDS.\n",
            "Słowo 'że' jest już na liście STOP_WORDS.\n",
            "Słowo 'żeby' jest już na liście STOP_WORDS.\n",
            "Zaktualizowana lista STOP_WORDS: '{'dwa', 'iii', 'swoim', 'zadna', 'kierunku', 'żeby', 'mi', 'pisarzem', 'postaci', 'toba', 'ktorzy', 'zaden', 'tyle', 'moja', 'wlasnie', 'inny', 'było', 'tutaj', 'swoich', 'książki', 'pisarką', 'były', 'książce', 'www', 'dr', 'jakze', 'przed', 'dokad', 'poiweśc', 'pisarkę', 'viii', 'nami', 'wami', 'moj', 'nr', 'tu', 'jeden', 'bylo', 'lecz', 'na', 'natomiast', 'kilku', 'podczas', 'ktorą', 'przecież', 'juz', 'niż', 'znowu', 'które', 'autorowi', 'autorkę', 'go', 'oraz', 'jako', 'ją', 'pani', 'wiele', 'jak', 'godz', 'mało', 'ksiązki', 'ktorego', 'my', 'cię', 'mogą', 'lub', 'zeznowu', 'zł', 'dzis', 'nich', 'powinni', 'czasami', 'jakaś', 'skad', 'zaś', 'caly', 'wszystkiemu', 'nim', 'poniewaz', 'on', 'z', 'popieram', 'skąd', 'też', 'mam', 'także', 'tweetnij', 'byly', 'przez', 'wszystkich', 'vi', 'zl', 'pisarzowi', 'gdziekolwiek', 'choć', 'ksiazke', 'razie', 'można', 'jeszcze', 'mu', 'swojego', 'którą', 'mnie', 'niech', 'pisarke', 'kilka', 'której', 'jednym', 'właśnie', 'powieści', 'książka', 'nic', 'byl', 'jesteśmy', 'cały', 'taka', 'jego', 'autorce', 'lekturze', 'według', 'twym', 'im', 'już', 'ktory', 'jestesmy', 'ksiazki', 'tam', 'aż', 'wsród', 'iz', 'kto', 'ile', 'mimo', 'tel', 'acz', 'ale', 'hab', 'po', 'jakiż', 'ok', 'czemu', 'ktorym', 'który', 'ich', 'tobą', 'vol', 'niego', 'bym', 'poza', 'czytelnika', 'wg', 'taki', 'zadnych', 'ta', 'kiedy', 'powinien', 'bohatera', 'wszystkim', 'ksiązka', 'oto', 'owszem', 'oni', 'toteż', 'jakoś', 'natychmiast', 'jakkolwiek', 'aby', 'popierać', 'coraz', 'co', 'powiesc', 'czyli', 'dwoje', 'wszyscy', 'przedtem', 'sobie', 'pan', 'pisarce', 'deda', 'swoje', 'wasza', 'tys', 'ponieważ', 'nowe', 'nimi', 'powinna', 'inż', 'one', 'gdzie', 'gdyż', 'te', 'teraz', 'ksiażka', 'ja', 'twoim', 'bohater', 'tymi', 'sposób', 'bohaterow', 'inna', 'aj', 'jedynie', 'sam', 'nad', 'gdyby', 'autora', 'twoj', 'cała', 'naszych', 'tobie', 'jest', 'od', 'o', 'wszystko', 'u', 'bohaterowi', 'wsrod', 'jemu', 'każdego', 'aczkolwiek', 'wielu', 'kazdym', 'pana', 'postac', 'mój', 'kazdy', 'dlaczego', 'daleko', 'byla', 'roku', 'powiescią', 'dokąd', 'rowniez', 'został', 'mna', 'postacią', 'iv', 'pisarz', 'moi', 'dobrze', 'tym', 'dwóch', 'az', 'wasz', 'dosc', 'więc', 'totez', 'twój', 'miedzy', 'prawie', 'takie', 'żadne', 'bo', 'bedzie', 'obok', 'ktora', 'wśród', 'xiii', 'bardzo', 'nia', 'chce', 'ciebie', 'alez', 'zostal', 'twoi', 'możliwe', 'trzeba', 'iż', 'nigdy', 'autorke', 'o.o.', 'duzo', 'ku', 'sobą', 'ksiązce', 'autor', 'przede', 'lektura', 'ci', 'ty', 'będę', 'powieścia', 'jakikolwiek', 'ix', 'jej', 'autorką', 'jakie', 'jestem', 'za', 'ktorej', 'jakże', 'do', 'ktorych', 'przy', 'pl', 'prof', 'ponad', 'nasi', 'ktokolwiek', 'kimś', 'zapewne', 'kazdego', 'również', 'bohaterów', 'zadne', 'bohaterze', 'jeśli', 'których', 'będzie', 'albo', 'jednakże', 'no', 'żadna', 'mamy', 'cali', 'i', 'pomimo', 'przeciez', 'we', 'wśrod', 'gdyz', 'czytelnik', 'znow', 'totobą', 'dwoch', 'że', 'pisarka', 'bynajmniej', 'xii', 'ktos', 'jakichs', 'bowiem', 'mozliwe', 'soba', 'jakiz', 'jedno', 'gdzieś', 'tą', 'około', 'kazde', 'takze', 'wy', 'może', 'by', 'naszego', 'xi', 'xiv', 'bohaterem', 'coś', 'moga', 'byli', 'dla', 'lekturą', 'wam', 'cala', 'tzw', 'jakas', 'jakis', 'dwaj', 'była', 'czytelniku', 'niemu', 'powinno', 'ksiazka', 'nam', 'dlatego', 'czasem', 'będą', 'a', 'sposob', 'autorze', 'ona', 'czytelnikiem', 'nasze', 'wasze', 'inne', 'był', 'każde', 'autorka', 'moze', 'lat', 'ksiażce', 'żaden', 'mozna', 'temu', 'cie', 'tej', 'twoje', 'was', 'wtedy', 'jaki', 'tych', 'którego', 'książke', 'swojej', 'to', 'postacia', 'ani', 'miał', 'tego', 'ze', 'jakichś', 'takich', 'autorem', 'być', 'dziś', 'musi', 'jakos', 'twoja', 'powieścią', 'ktoś', 'jedna', 'którzy', 'moim', 'powiesci', 'którym', 'ksiażki', 'niej', 'tę', 'powieść', 'nią', 'swoją', 'jednakze', 'ksiazkę', 'ktore', 'są', 'ii', 'mną', 'jeżeli', 'ma', 'kazda', 'cokolwiek', 'gdzies', 'mgr', 'xv', 'pisarzu', 'tylko', 'ach', 'jakby', 'w', 'postać', 'innych', 'ksiażke', 'wszystkie', 'vii', 'więcej', 'tak', 'ksiazce', 'pod', 'ten', 'np', 'kims', 'ależ', 'zeby', 'wasi', 'gdy', 'wie', 'bardziej', 'jakiś', 'każda', 'beda', 'jezeli', 'sie', 'mają', 'dość', 'która', 'ksiązke', 'zawsze', 'między', 'raz', 'często', 'żadnych', 'nasza', 'ono', 'nawet', 'się', 'ksiazką', 'nasz', 'niz', 'sama', 'cos', 'dwie', 'czy', 'powiescia', 'książkę', 'byc', 'jednak', 'każdym', 'nas', 'je', 'znów', 'każdy', 'książką', 'ksiązkę', 'moje', 'bede', 'siebie', 'dzisiaj', 'jesli', 'ul', 'swoja', 'dużo'}'.\n"
          ]
        }
      ],
      "source": [
        "stopwords_to_remove = [\"nie\", \"bez\"] # potrzebuję te słowa\n",
        "stopwords_to_add = stopwords_polish\n",
        "\n",
        "for stopword in stopwords_to_remove:\n",
        "    if stopword in STOP_WORDS:\n",
        "        STOP_WORDS.remove(stopword)\n",
        "        print(f\"Słowo '{stopword}' zostało usunięte z listy STOP_WORDS.\")\n",
        "    else:\n",
        "        print(f\"Słowo '{stopword}' nie było obecne na liście STOP_WORDS.\")\n",
        "\n",
        "for stopword in stopwords_to_add:\n",
        "    if stopword in STOP_WORDS:\n",
        "        print(f\"Słowo '{stopword}' jest już na liście STOP_WORDS.\")\n",
        "    else:\n",
        "        STOP_WORDS.add(stopword)\n",
        "        print(f\"Słowo '{stopword}' zostało dodane do listy STOP_WORDS.\")\n",
        "\n",
        "print(f\"Zaktualizowana lista STOP_WORDS: '{STOP_WORDS}'.\")"
      ]
    },
    {
      "cell_type": "code",
      "execution_count": 22,
      "metadata": {
        "id": "eqB0GSLZfT8E"
      },
      "outputs": [],
      "source": [
        "def tokenize(text):\n",
        "    doc = nlp(text)\n",
        "    tokens = []\n",
        "    for i, token in enumerate(doc):\n",
        "        if token.is_alpha and token.lemma_.lower() not in nlp.Defaults.stop_words:\n",
        "            if token.lemma_.lower() in {\"nie\", \"bez\"} and i < len(doc) - 1:\n",
        "                tokens.append(f\"{token.lemma_.lower()}_{doc[i+1].lemma_.lower()}\")\n",
        "            else:\n",
        "                tokens.append(token.lemma_.lower())\n",
        "    return tokens"
      ]
    },
    {
      "cell_type": "code",
      "execution_count": 23,
      "metadata": {
        "id": "aNIY1U2gfT8E"
      },
      "outputs": [],
      "source": [
        "# Robię tokenizację dla kolumny \"Treść_recenzji\"\n",
        "df[\"tokenized_reviews\"] = df[\"Treść_recenzji\"].apply(tokenize)"
      ]
    },
    {
      "cell_type": "code",
      "execution_count": 24,
      "metadata": {
        "id": "CJRGE6xWfT8E"
      },
      "outputs": [],
      "source": [
        "# To będzie moja wyjściowa ramka danych do dalszych prac (dla tych, które będę robić w nowym pliku - jeśli takie będą). Zapiszę ją do pliku csv.\n",
        "reviews_eda2a = pd.DataFrame(df)\n",
        "reviews_eda2a.to_csv(\"reviews_eda2a.csv\")"
      ]
    },
    {
      "cell_type": "code",
      "execution_count": 2,
      "metadata": {},
      "outputs": [],
      "source": [
        "df = pd.read_csv(\"reviews_eda2a.csv\")"
      ]
    },
    {
      "cell_type": "code",
      "execution_count": 25,
      "metadata": {
        "id": "yMs2PG49fT8E"
      },
      "outputs": [],
      "source": [
        "# Funkcja do ponownej konwersji listy słów na tekst\n",
        "def list_to_text(word_list):\n",
        "    return \" \".join(word_list)\n",
        "\n",
        "df[\"tokenized_reviews\"] = df[\"tokenized_reviews\"].apply(list_to_text)"
      ]
    },
    {
      "cell_type": "markdown",
      "metadata": {
        "id": "CnbSGRJplJQm"
      },
      "source": [
        "# Etykiety"
      ]
    },
    {
      "cell_type": "markdown",
      "metadata": {
        "id": "JBEaIlXwfT8F"
      },
      "source": [
        "### W związku z tym, że moje dane nie miały gotowych etykiet dla recenzji, musiałam sama je przypisać.\n",
        "### Postanowiłam skorzystać z gotowych rozwiązań.\n",
        "### Przetestowałam rozwiązania proponowane w bibliotece textblob, nltk oraz model z huggingface - nie3e/sentiment-polish-gpt2-small (to ostatnie rozwiązanie w osobnym pliku).\n"
      ]
    },
    {
      "cell_type": "markdown",
      "metadata": {
        "id": "5QE66gTMky50"
      },
      "source": [
        "# TextBlob"
      ]
    },
    {
      "cell_type": "code",
      "execution_count": null,
      "metadata": {
        "id": "wJhDrYnVfT8F"
      },
      "outputs": [],
      "source": [
        "#pip install textblob\n",
        "#python -m textblob.download_corpora"
      ]
    },
    {
      "cell_type": "code",
      "execution_count": 26,
      "metadata": {
        "id": "KBkg6djRfT8F"
      },
      "outputs": [],
      "source": [
        "from textblob import TextBlob"
      ]
    },
    {
      "cell_type": "code",
      "execution_count": 27,
      "metadata": {
        "id": "RoyRU87ffT8F"
      },
      "outputs": [],
      "source": [
        "def analyze_sentiment(text):\n",
        "    analysis = TextBlob(text)\n",
        "    return analysis.sentiment.polarity"
      ]
    },
    {
      "cell_type": "code",
      "execution_count": 28,
      "metadata": {
        "id": "UFqLNTKWfT8G"
      },
      "outputs": [],
      "source": [
        "df[\"Sentyment\"] = df[\"tokenized_reviews\"].apply(analyze_sentiment)"
      ]
    },
    {
      "cell_type": "code",
      "execution_count": 29,
      "metadata": {
        "id": "Pdq3mX-GfT8G"
      },
      "outputs": [],
      "source": [
        "def label_sentiment(score):\n",
        "    if score > 0:\n",
        "        return 2 #'Pozytywny'\n",
        "    elif score < 0:\n",
        "        return 1 #'Negatywny'\n",
        "    else:\n",
        "        return 0 #'Neutralny'\n",
        "\n",
        "df[\"Etykieta_Sentymentu\"] = df[\"Sentyment\"].apply(label_sentiment)"
      ]
    },
    {
      "cell_type": "code",
      "execution_count": 30,
      "metadata": {
        "id": "EyiSEiphfT8H",
        "outputId": "0e5cafc7-f65b-4e34-93d6-e63f85ac08f6"
      },
      "outputs": [
        {
          "data": {
            "text/plain": [
              "Etykieta_Sentymentu\n",
              "0    4706\n",
              "1     681\n",
              "2     575\n",
              "Name: count, dtype: int64"
            ]
          },
          "execution_count": 30,
          "metadata": {},
          "output_type": "execute_result"
        }
      ],
      "source": [
        "df[\"Etykieta_Sentymentu\"].value_counts()"
      ]
    },
    {
      "cell_type": "code",
      "execution_count": 31,
      "metadata": {
        "id": "65CqCVBFfT8H",
        "outputId": "d015dce7-581c-4d27-8417-4c23d0a10772"
      },
      "outputs": [
        {
          "data": {
            "image/png": "[encoded data removed]",
            "text/plain": [
              "<Figure size 640x480 with 1 Axes>"
            ]
          },
          "metadata": {},
          "output_type": "display_data"
        }
      ],
      "source": [
        "import matplotlib.pyplot as plt\n",
        "\n",
        "# Analiza liczby recenzji w poszczególnych kategoriach sentymentu\n",
        "sentiment_distribution = df[\"Etykieta_Sentymentu\"].value_counts()\n",
        "\n",
        "# Wykres kołowy\n",
        "sentiment_distribution.plot(kind=\"pie\", autopct=\"%1.1f%%\", startangle=90)\n",
        "plt.title(\"Rozkład Sentymentu w Recenzjach\")\n",
        "plt.show()"
      ]
    },
    {
      "cell_type": "markdown",
      "metadata": {
        "id": "dwtn98m7fT8I"
      },
      "source": [
        "#  NLTK"
      ]
    },
    {
      "cell_type": "code",
      "execution_count": 32,
      "metadata": {
        "id": "PzLwlpbCfT8I"
      },
      "outputs": [],
      "source": [
        "from nltk.sentiment import SentimentIntensityAnalyzer"
      ]
    },
    {
      "cell_type": "code",
      "execution_count": 33,
      "metadata": {
        "id": "2Q6wEsjzfT8J"
      },
      "outputs": [],
      "source": [
        "def analyze_sentiment_nltk(text):\n",
        "    sia = SentimentIntensityAnalyzer()\n",
        "    sentiment_score = sia.polarity_scores(text)[\"compound\"]\n",
        "    return sentiment_score"
      ]
    },
    {
      "cell_type": "code",
      "execution_count": 34,
      "metadata": {
        "id": "_HhuTeR_fT8J"
      },
      "outputs": [],
      "source": [
        "df[\"Sentyment_NLTK\"] = df[\"tokenized_reviews\"].apply(analyze_sentiment_nltk)"
      ]
    },
    {
      "cell_type": "code",
      "execution_count": 35,
      "metadata": {
        "id": "D179xoKafT8J"
      },
      "outputs": [],
      "source": [
        "def label_sentiment(score):\n",
        "    if score >= 0.05:\n",
        "        return 2 #'Pozytywny'\n",
        "    elif score <= -0.05:\n",
        "        return 1 #'Negatywny'\n",
        "    else:\n",
        "        return 0 #'Neutralny'\n",
        "\n",
        "df[\"Etykieta_Sentymentu_NLTK\"] = df[\"Sentyment_NLTK\"].apply(label_sentiment)"
      ]
    },
    {
      "cell_type": "code",
      "execution_count": 36,
      "metadata": {
        "id": "3U3sDnmifT8J",
        "outputId": "5e294ae9-d4b9-4e05-dbd6-b1b58e183439"
      },
      "outputs": [
        {
          "data": {
            "text/plain": [
              "Etykieta_Sentymentu_NLTK\n",
              "1    2183\n",
              "0    2074\n",
              "2    1705\n",
              "Name: count, dtype: int64"
            ]
          },
          "execution_count": 36,
          "metadata": {},
          "output_type": "execute_result"
        }
      ],
      "source": [
        "df[\"Etykieta_Sentymentu_NLTK\"].value_counts()"
      ]
    },
    {
      "cell_type": "code",
      "execution_count": 37,
      "metadata": {
        "id": "Dr1idZM4fT8K",
        "outputId": "c85e6f08-dd87-41d4-b4ea-d3b153756487"
      },
      "outputs": [
        {
          "data": {
            "image/png": "[encoded data removed]",
            "text/plain": [
              "<Figure size 640x480 with 1 Axes>"
            ]
          },
          "metadata": {},
          "output_type": "display_data"
        }
      ],
      "source": [
        "# Analiza liczby recenzji w poszczególnych kategoriach sentymentu\n",
        "sentiment_distribution = df[\"Etykieta_Sentymentu_NLTK\"].value_counts()\n",
        "\n",
        "# Wykres kołowy\n",
        "sentiment_distribution.plot(kind=\"pie\", autopct=\"%1.1f%%\", startangle=90)\n",
        "plt.title(\"Rozkład Sentymentu NLTK w Recenzjach\")\n",
        "plt.show()"
      ]
    },
    {
      "cell_type": "markdown",
      "metadata": {
        "id": "CbqItDsRl_eg"
      },
      "source": []
    },
    {
      "cell_type": "code",
      "execution_count": null,
      "metadata": {
        "id": "ip1kSyaUfT8M"
      },
      "outputs": [],
      "source": [
        "#Lasy losowe"
      ]
    },
    {
      "cell_type": "code",
      "execution_count": 38,
      "metadata": {
        "id": "15imF_LWfT8N",
        "outputId": "3f40c58c-ce78-4a3d-e65d-a2b63a4e00ea"
      },
      "outputs": [
        {
          "data": {
            "text/plain": [
              "Index(['Unnamed: 0', 'Link', 'Autor', 'Tytuł', 'Data_recenzji',\n",
              "       'Treść_recenzji', 'Średnia_ocen', 'Liczba_ocen', 'Liczba_czytelników',\n",
              "       'Rok_recenzji', 'language_reviews', 'tokenized_reviews', 'Sentyment',\n",
              "       'Etykieta_Sentymentu', 'Sentyment_NLTK', 'Etykieta_Sentymentu_NLTK'],\n",
              "      dtype='object')"
            ]
          },
          "execution_count": 38,
          "metadata": {},
          "output_type": "execute_result"
        }
      ],
      "source": [
        "df.columns\n"
      ]
    },
    {
      "cell_type": "code",
      "execution_count": 39,
      "metadata": {
        "id": "61hJt_11fT8N"
      },
      "outputs": [],
      "source": [
        "from sklearn.model_selection import train_test_split\n",
        "from sklearn.feature_extraction.text import TfidfVectorizer\n",
        "from sklearn.ensemble import RandomForestClassifier\n",
        "from sklearn.metrics import classification_report\n",
        "from imblearn.over_sampling import SMOTE"
      ]
    },
    {
      "cell_type": "code",
      "execution_count": 40,
      "metadata": {
        "id": "x7PsHshsfT8N"
      },
      "outputs": [],
      "source": [
        "# Przygotowuję zbiory: treningowy, walidacyjny i testowy\n",
        "train_data, test_data = train_test_split(df, test_size=0.2, random_state=42)\n",
        "train_data, val_data = train_test_split(train_data, test_size=0.25, random_state=42)"
      ]
    },
    {
      "cell_type": "code",
      "execution_count": 74,
      "metadata": {
        "id": "QAhJdKrLfT8N"
      },
      "outputs": [],
      "source": [
        "# Tworzę macierz TF-IDF\n",
        "#vectorizer = TfidfVectorizer(max_features=5000, ngram_range=(1,2))\n",
        "vectorizer = TfidfVectorizer(ngram_range=(1,3))\n",
        "X_train = vectorizer.fit_transform(train_data[\"tokenized_reviews\"])\n",
        "X_val = vectorizer.transform(val_data[\"tokenized_reviews\"])\n",
        "X_test = vectorizer.transform(test_data[\"tokenized_reviews\"])"
      ]
    },
    {
      "cell_type": "code",
      "execution_count": 75,
      "metadata": {
        "id": "E5VOr_nafT8N"
      },
      "outputs": [],
      "source": [
        "# Etykiety\n",
        "y_train = train_data[\"Etykieta_Sentymentu_NLTK\"]\n",
        "y_val = val_data[\"Etykieta_Sentymentu_NLTK\"]\n",
        "y_test = test_data[\"Etykieta_Sentymentu_NLTK\"]"
      ]
    },
    {
      "cell_type": "code",
      "execution_count": 76,
      "metadata": {
        "id": "xuaRk_bYfT8N",
        "outputId": "07a41fdd-8db2-4f59-d7a2-7067d388cc23"
      },
      "outputs": [
        {
          "data": {
            "text/html": [
              "<style>#sk-container-id-8 {color: black;}#sk-container-id-8 pre{padding: 0;}#sk-container-id-8 div.sk-toggleable {background-color: white;}#sk-container-id-8 label.sk-toggleable__label {cursor: pointer;display: block;width: 100%;margin-bottom: 0;padding: 0.3em;box-sizing: border-box;text-align: center;}#sk-container-id-8 label.sk-toggleable__label-arrow:before {content: \"▸\";float: left;margin-right: 0.25em;color: #696969;}#sk-container-id-8 label.sk-toggleable__label-arrow:hover:before {color: black;}#sk-container-id-8 div.sk-estimator:hover label.sk-toggleable__label-arrow:before {color: black;}#sk-container-id-8 div.sk-toggleable__content {max-height: 0;max-width: 0;overflow: hidden;text-align: left;background-color: #f0f8ff;}#sk-container-id-8 div.sk-toggleable__content pre {margin: 0.2em;color: black;border-radius: 0.25em;background-color: #f0f8ff;}#sk-container-id-8 input.sk-toggleable__control:checked~div.sk-toggleable__content {max-height: 200px;max-width: 100%;overflow: auto;}#sk-container-id-8 input.sk-toggleable__control:checked~label.sk-toggleable__label-arrow:before {content: \"▾\";}#sk-container-id-8 div.sk-estimator input.sk-toggleable__control:checked~label.sk-toggleable__label {background-color: #d4ebff;}#sk-container-id-8 div.sk-label input.sk-toggleable__control:checked~label.sk-toggleable__label {background-color: #d4ebff;}#sk-container-id-8 input.sk-hidden--visually {border: 0;clip: rect(1px 1px 1px 1px);clip: rect(1px, 1px, 1px, 1px);height: 1px;margin: -1px;overflow: hidden;padding: 0;position: absolute;width: 1px;}#sk-container-id-8 div.sk-estimator {font-family: monospace;background-color: #f0f8ff;border: 1px dotted black;border-radius: 0.25em;box-sizing: border-box;margin-bottom: 0.5em;}#sk-container-id-8 div.sk-estimator:hover {background-color: #d4ebff;}#sk-container-id-8 div.sk-parallel-item::after {content: \"\";width: 100%;border-bottom: 1px solid gray;flex-grow: 1;}#sk-container-id-8 div.sk-label:hover label.sk-toggleable__label {background-color: #d4ebff;}#sk-container-id-8 div.sk-serial::before {content: \"\";position: absolute;border-left: 1px solid gray;box-sizing: border-box;top: 0;bottom: 0;left: 50%;z-index: 0;}#sk-container-id-8 div.sk-serial {display: flex;flex-direction: column;align-items: center;background-color: white;padding-right: 0.2em;padding-left: 0.2em;position: relative;}#sk-container-id-8 div.sk-item {position: relative;z-index: 1;}#sk-container-id-8 div.sk-parallel {display: flex;align-items: stretch;justify-content: center;background-color: white;position: relative;}#sk-container-id-8 div.sk-item::before, #sk-container-id-8 div.sk-parallel-item::before {content: \"\";position: absolute;border-left: 1px solid gray;box-sizing: border-box;top: 0;bottom: 0;left: 50%;z-index: -1;}#sk-container-id-8 div.sk-parallel-item {display: flex;flex-direction: column;z-index: 1;position: relative;background-color: white;}#sk-container-id-8 div.sk-parallel-item:first-child::after {align-self: flex-end;width: 50%;}#sk-container-id-8 div.sk-parallel-item:last-child::after {align-self: flex-start;width: 50%;}#sk-container-id-8 div.sk-parallel-item:only-child::after {width: 0;}#sk-container-id-8 div.sk-dashed-wrapped {border: 1px dashed gray;margin: 0 0.4em 0.5em 0.4em;box-sizing: border-box;padding-bottom: 0.4em;background-color: white;}#sk-container-id-8 div.sk-label label {font-family: monospace;font-weight: bold;display: inline-block;line-height: 1.2em;}#sk-container-id-8 div.sk-label-container {text-align: center;}#sk-container-id-8 div.sk-container {/* jupyter's `normalize.less` sets `[hidden] { display: none; }` but bootstrap.min.css set `[hidden] { display: none !important; }` so we also need the `!important` here to be able to override the default hidden behavior on the sphinx rendered scikit-learn.org. See: https://github.com/scikit-learn/scikit-learn/issues/21755 */display: inline-block !important;position: relative;}#sk-container-id-8 div.sk-text-repr-fallback {display: none;}</style><div id=\"sk-container-id-8\" class=\"sk-top-container\"><div class=\"sk-text-repr-fallback\"><pre>RandomForestClassifier(random_state=42)</pre><b>In a Jupyter environment, please rerun this cell to show the HTML representation or trust the notebook. <br />On GitHub, the HTML representation is unable to render, please try loading this page with nbviewer.org.</b></div><div class=\"sk-container\" hidden><div class=\"sk-item\"><div class=\"sk-estimator sk-toggleable\"><input class=\"sk-toggleable__control sk-hidden--visually\" id=\"sk-estimator-id-8\" type=\"checkbox\" checked><label for=\"sk-estimator-id-8\" class=\"sk-toggleable__label sk-toggleable__label-arrow\">RandomForestClassifier</label><div class=\"sk-toggleable__content\"><pre>RandomForestClassifier(random_state=42)</pre></div></div></div></div></div>"
            ],
            "text/plain": [
              "RandomForestClassifier(random_state=42)"
            ]
          },
          "execution_count": 76,
          "metadata": {},
          "output_type": "execute_result"
        }
      ],
      "source": [
        "# Podejście 1 - model RandomForestClassifier\n",
        "rf_model = RandomForestClassifier(random_state=42)\n",
        "rf_model.fit(X_train, y_train)"
      ]
    },
    {
      "cell_type": "code",
      "execution_count": 77,
      "metadata": {
        "id": "MpEf4v9ifT8O",
        "outputId": "2e364c5e-e72f-4474-a051-6bb727564080"
      },
      "outputs": [
        {
          "name": "stdout",
          "output_type": "stream",
          "text": [
            "Raport dla RandomForestClassifier na zestawie walidacyjnym:\n",
            "               precision    recall  f1-score   support\n",
            "\n",
            "           0       0.44      0.76      0.55       409\n",
            "           1       0.58      0.57      0.57       438\n",
            "           2       0.72      0.11      0.19       346\n",
            "\n",
            "    accuracy                           0.50      1193\n",
            "   macro avg       0.58      0.48      0.44      1193\n",
            "weighted avg       0.57      0.50      0.46      1193\n",
            "\n"
          ]
        }
      ],
      "source": [
        "# Teraz będę oceniać modelu bazowego na zestawie walidacyjnym\n",
        "y_val_pred = rf_model.predict(X_val)\n",
        "print(\"Raport dla RandomForestClassifier na zestawie walidacyjnym:\\n\", classification_report(y_val, y_val_pred))"
      ]
    },
    {
      "cell_type": "code",
      "execution_count": 78,
      "metadata": {},
      "outputs": [
        {
          "name": "stdout",
          "output_type": "stream",
          "text": [
            "Raport dla RandomForestClassifier na zestawie testowym:\n",
            "               precision    recall  f1-score   support\n",
            "\n",
            "           0       0.43      0.74      0.54       390\n",
            "           1       0.59      0.59      0.59       455\n",
            "           2       0.77      0.14      0.23       348\n",
            "\n",
            "    accuracy                           0.51      1193\n",
            "   macro avg       0.60      0.49      0.46      1193\n",
            "weighted avg       0.59      0.51      0.47      1193\n",
            "\n"
          ]
        }
      ],
      "source": [
        "# Teraz będę oceniać modelu bazowego na zestawie testowym\n",
        "y_test_pred = rf_model.predict(X_test)\n",
        "print(\"Raport dla RandomForestClassifier na zestawie testowym:\\n\", classification_report(y_test, y_test_pred))"
      ]
    },
    {
      "cell_type": "code",
      "execution_count": 80,
      "metadata": {},
      "outputs": [
        {
          "data": {
            "image/png": "[encoded data removed]",
            "text/plain": [
              "<Figure size 800x600 with 1 Axes>"
            ]
          },
          "metadata": {},
          "output_type": "display_data"
        }
      ],
      "source": [
        "# Krzywa ROC\n",
        "from sklearn.metrics import roc_curve, auc\n",
        "\n",
        "# Prawdopodobieństwa przewidywane przez model dla zbioru testowego\n",
        "y_probs = rf_model.predict_proba(X_test)\n",
        "\n",
        "# Krzywa ROC dla każdej klasy\n",
        "plt.figure(figsize=(8, 6))\n",
        "for i in range(len(classes)):\n",
        "    fpr, tpr, _ = roc_curve(y_test == classes[i], y_probs[:, i])\n",
        "    roc_auc = auc(fpr, tpr)\n",
        "    plt.plot(fpr, tpr, label=f'Class {classes[i]} (AUC = {roc_auc:.2f})')\n",
        "\n",
        "plt.plot([0, 1], [0, 1], color='navy', linestyle='--')\n",
        "plt.xlabel('False Positive Rate')\n",
        "plt.ylabel('True Positive Rate')\n",
        "plt.title('ROC Curve')\n",
        "plt.legend()\n",
        "plt.show()"
      ]
    },
    {
      "cell_type": "code",
      "execution_count": 82,
      "metadata": {},
      "outputs": [
        {
          "data": {
            "text/html": [
              "<style>#sk-container-id-9 {color: black;}#sk-container-id-9 pre{padding: 0;}#sk-container-id-9 div.sk-toggleable {background-color: white;}#sk-container-id-9 label.sk-toggleable__label {cursor: pointer;display: block;width: 100%;margin-bottom: 0;padding: 0.3em;box-sizing: border-box;text-align: center;}#sk-container-id-9 label.sk-toggleable__label-arrow:before {content: \"▸\";float: left;margin-right: 0.25em;color: #696969;}#sk-container-id-9 label.sk-toggleable__label-arrow:hover:before {color: black;}#sk-container-id-9 div.sk-estimator:hover label.sk-toggleable__label-arrow:before {color: black;}#sk-container-id-9 div.sk-toggleable__content {max-height: 0;max-width: 0;overflow: hidden;text-align: left;background-color: #f0f8ff;}#sk-container-id-9 div.sk-toggleable__content pre {margin: 0.2em;color: black;border-radius: 0.25em;background-color: #f0f8ff;}#sk-container-id-9 input.sk-toggleable__control:checked~div.sk-toggleable__content {max-height: 200px;max-width: 100%;overflow: auto;}#sk-container-id-9 input.sk-toggleable__control:checked~label.sk-toggleable__label-arrow:before {content: \"▾\";}#sk-container-id-9 div.sk-estimator input.sk-toggleable__control:checked~label.sk-toggleable__label {background-color: #d4ebff;}#sk-container-id-9 div.sk-label input.sk-toggleable__control:checked~label.sk-toggleable__label {background-color: #d4ebff;}#sk-container-id-9 input.sk-hidden--visually {border: 0;clip: rect(1px 1px 1px 1px);clip: rect(1px, 1px, 1px, 1px);height: 1px;margin: -1px;overflow: hidden;padding: 0;position: absolute;width: 1px;}#sk-container-id-9 div.sk-estimator {font-family: monospace;background-color: #f0f8ff;border: 1px dotted black;border-radius: 0.25em;box-sizing: border-box;margin-bottom: 0.5em;}#sk-container-id-9 div.sk-estimator:hover {background-color: #d4ebff;}#sk-container-id-9 div.sk-parallel-item::after {content: \"\";width: 100%;border-bottom: 1px solid gray;flex-grow: 1;}#sk-container-id-9 div.sk-label:hover label.sk-toggleable__label {background-color: #d4ebff;}#sk-container-id-9 div.sk-serial::before {content: \"\";position: absolute;border-left: 1px solid gray;box-sizing: border-box;top: 0;bottom: 0;left: 50%;z-index: 0;}#sk-container-id-9 div.sk-serial {display: flex;flex-direction: column;align-items: center;background-color: white;padding-right: 0.2em;padding-left: 0.2em;position: relative;}#sk-container-id-9 div.sk-item {position: relative;z-index: 1;}#sk-container-id-9 div.sk-parallel {display: flex;align-items: stretch;justify-content: center;background-color: white;position: relative;}#sk-container-id-9 div.sk-item::before, #sk-container-id-9 div.sk-parallel-item::before {content: \"\";position: absolute;border-left: 1px solid gray;box-sizing: border-box;top: 0;bottom: 0;left: 50%;z-index: -1;}#sk-container-id-9 div.sk-parallel-item {display: flex;flex-direction: column;z-index: 1;position: relative;background-color: white;}#sk-container-id-9 div.sk-parallel-item:first-child::after {align-self: flex-end;width: 50%;}#sk-container-id-9 div.sk-parallel-item:last-child::after {align-self: flex-start;width: 50%;}#sk-container-id-9 div.sk-parallel-item:only-child::after {width: 0;}#sk-container-id-9 div.sk-dashed-wrapped {border: 1px dashed gray;margin: 0 0.4em 0.5em 0.4em;box-sizing: border-box;padding-bottom: 0.4em;background-color: white;}#sk-container-id-9 div.sk-label label {font-family: monospace;font-weight: bold;display: inline-block;line-height: 1.2em;}#sk-container-id-9 div.sk-label-container {text-align: center;}#sk-container-id-9 div.sk-container {/* jupyter's `normalize.less` sets `[hidden] { display: none; }` but bootstrap.min.css set `[hidden] { display: none !important; }` so we also need the `!important` here to be able to override the default hidden behavior on the sphinx rendered scikit-learn.org. See: https://github.com/scikit-learn/scikit-learn/issues/21755 */display: inline-block !important;position: relative;}#sk-container-id-9 div.sk-text-repr-fallback {display: none;}</style><div id=\"sk-container-id-9\" class=\"sk-top-container\"><div class=\"sk-text-repr-fallback\"><pre>RandomForestClassifier(max_depth=10, random_state=42)</pre><b>In a Jupyter environment, please rerun this cell to show the HTML representation or trust the notebook. <br />On GitHub, the HTML representation is unable to render, please try loading this page with nbviewer.org.</b></div><div class=\"sk-container\" hidden><div class=\"sk-item\"><div class=\"sk-estimator sk-toggleable\"><input class=\"sk-toggleable__control sk-hidden--visually\" id=\"sk-estimator-id-9\" type=\"checkbox\" checked><label for=\"sk-estimator-id-9\" class=\"sk-toggleable__label sk-toggleable__label-arrow\">RandomForestClassifier</label><div class=\"sk-toggleable__content\"><pre>RandomForestClassifier(max_depth=10, random_state=42)</pre></div></div></div></div></div>"
            ],
            "text/plain": [
              "RandomForestClassifier(max_depth=10, random_state=42)"
            ]
          },
          "execution_count": 82,
          "metadata": {},
          "output_type": "execute_result"
        }
      ],
      "source": [
        "#ver2\n",
        "rf_model_ver2 = RandomForestClassifier(max_depth=10, \n",
        "                                       min_samples_split=2, \n",
        "                                       min_samples_leaf=1, \n",
        "                                       max_features='sqrt', \n",
        "                                       class_weight=None, \n",
        "                                       random_state=42)\n",
        "\n",
        "rf_model_ver2.fit(X_train, y_train)"
      ]
    },
    {
      "cell_type": "code",
      "execution_count": 83,
      "metadata": {},
      "outputs": [
        {
          "name": "stdout",
          "output_type": "stream",
          "text": [
            "Raport dla RandomForestClassifier na zestawie walidacyjnym:\n",
            "               precision    recall  f1-score   support\n",
            "\n",
            "           0       0.41      0.68      0.51       409\n",
            "           1       0.50      0.58      0.53       438\n",
            "           2       0.00      0.00      0.00       346\n",
            "\n",
            "    accuracy                           0.45      1193\n",
            "   macro avg       0.30      0.42      0.35      1193\n",
            "weighted avg       0.32      0.45      0.37      1193\n",
            "\n"
          ]
        },
        {
          "name": "stderr",
          "output_type": "stream",
          "text": [
            "c:\\Users\\konta\\AppData\\Local\\Programs\\Python\\Python311\\Lib\\site-packages\\sklearn\\metrics\\_classification.py:1471: UndefinedMetricWarning: Precision and F-score are ill-defined and being set to 0.0 in labels with no predicted samples. Use `zero_division` parameter to control this behavior.\n",
            "  _warn_prf(average, modifier, msg_start, len(result))\n",
            "c:\\Users\\konta\\AppData\\Local\\Programs\\Python\\Python311\\Lib\\site-packages\\sklearn\\metrics\\_classification.py:1471: UndefinedMetricWarning: Precision and F-score are ill-defined and being set to 0.0 in labels with no predicted samples. Use `zero_division` parameter to control this behavior.\n",
            "  _warn_prf(average, modifier, msg_start, len(result))\n",
            "c:\\Users\\konta\\AppData\\Local\\Programs\\Python\\Python311\\Lib\\site-packages\\sklearn\\metrics\\_classification.py:1471: UndefinedMetricWarning: Precision and F-score are ill-defined and being set to 0.0 in labels with no predicted samples. Use `zero_division` parameter to control this behavior.\n",
            "  _warn_prf(average, modifier, msg_start, len(result))\n"
          ]
        }
      ],
      "source": [
        "y_val_pred_ver2 = rf_model_ver2.predict(X_val)\n",
        "print(\"Raport dla RandomForestClassifier na zestawie walidacyjnym:\\n\", classification_report(y_val, y_val_pred_ver2))"
      ]
    },
    {
      "cell_type": "code",
      "execution_count": 84,
      "metadata": {},
      "outputs": [
        {
          "name": "stdout",
          "output_type": "stream",
          "text": [
            "Raport dla RandomForestClassifier na zestawie walidacyjnym:\n",
            "               precision    recall  f1-score   support\n",
            "\n",
            "           0       0.38      0.69      0.49       390\n",
            "           1       0.51      0.56      0.53       455\n",
            "           2       1.00      0.00      0.01       348\n",
            "\n",
            "    accuracy                           0.44      1193\n",
            "   macro avg       0.63      0.42      0.34      1193\n",
            "weighted avg       0.61      0.44      0.37      1193\n",
            "\n"
          ]
        }
      ],
      "source": [
        "y_test_pred_ver2 = rf_model_ver2.predict(X_test)\n",
        "print(\"Raport dla RandomForestClassifier na zestawie walidacyjnym:\\n\", classification_report(y_test, y_test_pred_ver2))"
      ]
    },
    {
      "cell_type": "code",
      "execution_count": null,
      "metadata": {
        "id": "53bcwjPgfT8O"
      },
      "outputs": [],
      "source": [
        "# Model XGBoost"
      ]
    },
    {
      "cell_type": "code",
      "execution_count": 85,
      "metadata": {
        "id": "4fwaLVt6fT8O"
      },
      "outputs": [],
      "source": [
        "import xgboost as xgb\n",
        "from sklearn.metrics import accuracy_score"
      ]
    },
    {
      "cell_type": "code",
      "execution_count": 86,
      "metadata": {
        "id": "X1UaTkwefT8O",
        "outputId": "254db2d7-e396-43c0-fd00-d843f4d23aff"
      },
      "outputs": [
        {
          "data": {
            "text/html": [
              "<style>#sk-container-id-10 {color: black;}#sk-container-id-10 pre{padding: 0;}#sk-container-id-10 div.sk-toggleable {background-color: white;}#sk-container-id-10 label.sk-toggleable__label {cursor: pointer;display: block;width: 100%;margin-bottom: 0;padding: 0.3em;box-sizing: border-box;text-align: center;}#sk-container-id-10 label.sk-toggleable__label-arrow:before {content: \"▸\";float: left;margin-right: 0.25em;color: #696969;}#sk-container-id-10 label.sk-toggleable__label-arrow:hover:before {color: black;}#sk-container-id-10 div.sk-estimator:hover label.sk-toggleable__label-arrow:before {color: black;}#sk-container-id-10 div.sk-toggleable__content {max-height: 0;max-width: 0;overflow: hidden;text-align: left;background-color: #f0f8ff;}#sk-container-id-10 div.sk-toggleable__content pre {margin: 0.2em;color: black;border-radius: 0.25em;background-color: #f0f8ff;}#sk-container-id-10 input.sk-toggleable__control:checked~div.sk-toggleable__content {max-height: 200px;max-width: 100%;overflow: auto;}#sk-container-id-10 input.sk-toggleable__control:checked~label.sk-toggleable__label-arrow:before {content: \"▾\";}#sk-container-id-10 div.sk-estimator input.sk-toggleable__control:checked~label.sk-toggleable__label {background-color: #d4ebff;}#sk-container-id-10 div.sk-label input.sk-toggleable__control:checked~label.sk-toggleable__label {background-color: #d4ebff;}#sk-container-id-10 input.sk-hidden--visually {border: 0;clip: rect(1px 1px 1px 1px);clip: rect(1px, 1px, 1px, 1px);height: 1px;margin: -1px;overflow: hidden;padding: 0;position: absolute;width: 1px;}#sk-container-id-10 div.sk-estimator {font-family: monospace;background-color: #f0f8ff;border: 1px dotted black;border-radius: 0.25em;box-sizing: border-box;margin-bottom: 0.5em;}#sk-container-id-10 div.sk-estimator:hover {background-color: #d4ebff;}#sk-container-id-10 div.sk-parallel-item::after {content: \"\";width: 100%;border-bottom: 1px solid gray;flex-grow: 1;}#sk-container-id-10 div.sk-label:hover label.sk-toggleable__label {background-color: #d4ebff;}#sk-container-id-10 div.sk-serial::before {content: \"\";position: absolute;border-left: 1px solid gray;box-sizing: border-box;top: 0;bottom: 0;left: 50%;z-index: 0;}#sk-container-id-10 div.sk-serial {display: flex;flex-direction: column;align-items: center;background-color: white;padding-right: 0.2em;padding-left: 0.2em;position: relative;}#sk-container-id-10 div.sk-item {position: relative;z-index: 1;}#sk-container-id-10 div.sk-parallel {display: flex;align-items: stretch;justify-content: center;background-color: white;position: relative;}#sk-container-id-10 div.sk-item::before, #sk-container-id-10 div.sk-parallel-item::before {content: \"\";position: absolute;border-left: 1px solid gray;box-sizing: border-box;top: 0;bottom: 0;left: 50%;z-index: -1;}#sk-container-id-10 div.sk-parallel-item {display: flex;flex-direction: column;z-index: 1;position: relative;background-color: white;}#sk-container-id-10 div.sk-parallel-item:first-child::after {align-self: flex-end;width: 50%;}#sk-container-id-10 div.sk-parallel-item:last-child::after {align-self: flex-start;width: 50%;}#sk-container-id-10 div.sk-parallel-item:only-child::after {width: 0;}#sk-container-id-10 div.sk-dashed-wrapped {border: 1px dashed gray;margin: 0 0.4em 0.5em 0.4em;box-sizing: border-box;padding-bottom: 0.4em;background-color: white;}#sk-container-id-10 div.sk-label label {font-family: monospace;font-weight: bold;display: inline-block;line-height: 1.2em;}#sk-container-id-10 div.sk-label-container {text-align: center;}#sk-container-id-10 div.sk-container {/* jupyter's `normalize.less` sets `[hidden] { display: none; }` but bootstrap.min.css set `[hidden] { display: none !important; }` so we also need the `!important` here to be able to override the default hidden behavior on the sphinx rendered scikit-learn.org. See: https://github.com/scikit-learn/scikit-learn/issues/21755 */display: inline-block !important;position: relative;}#sk-container-id-10 div.sk-text-repr-fallback {display: none;}</style><div id=\"sk-container-id-10\" class=\"sk-top-container\"><div class=\"sk-text-repr-fallback\"><pre>XGBClassifier(base_score=None, booster=None, callbacks=None,\n",
              "              colsample_bylevel=None, colsample_bynode=None,\n",
              "              colsample_bytree=None, device=None, early_stopping_rounds=None,\n",
              "              enable_categorical=False, eval_metric=None, feature_types=None,\n",
              "              gamma=None, grow_policy=None, importance_type=None,\n",
              "              interaction_constraints=None, learning_rate=None, max_bin=None,\n",
              "              max_cat_threshold=None, max_cat_to_onehot=None,\n",
              "              max_delta_step=None, max_depth=None, max_leaves=None,\n",
              "              min_child_weight=None, missing=nan, monotone_constraints=None,\n",
              "              multi_strategy=None, n_estimators=None, n_jobs=None,\n",
              "              num_parallel_tree=None, objective=&#x27;multi:softprob&#x27;, ...)</pre><b>In a Jupyter environment, please rerun this cell to show the HTML representation or trust the notebook. <br />On GitHub, the HTML representation is unable to render, please try loading this page with nbviewer.org.</b></div><div class=\"sk-container\" hidden><div class=\"sk-item\"><div class=\"sk-estimator sk-toggleable\"><input class=\"sk-toggleable__control sk-hidden--visually\" id=\"sk-estimator-id-10\" type=\"checkbox\" checked><label for=\"sk-estimator-id-10\" class=\"sk-toggleable__label sk-toggleable__label-arrow\">XGBClassifier</label><div class=\"sk-toggleable__content\"><pre>XGBClassifier(base_score=None, booster=None, callbacks=None,\n",
              "              colsample_bylevel=None, colsample_bynode=None,\n",
              "              colsample_bytree=None, device=None, early_stopping_rounds=None,\n",
              "              enable_categorical=False, eval_metric=None, feature_types=None,\n",
              "              gamma=None, grow_policy=None, importance_type=None,\n",
              "              interaction_constraints=None, learning_rate=None, max_bin=None,\n",
              "              max_cat_threshold=None, max_cat_to_onehot=None,\n",
              "              max_delta_step=None, max_depth=None, max_leaves=None,\n",
              "              min_child_weight=None, missing=nan, monotone_constraints=None,\n",
              "              multi_strategy=None, n_estimators=None, n_jobs=None,\n",
              "              num_parallel_tree=None, objective=&#x27;multi:softprob&#x27;, ...)</pre></div></div></div></div></div>"
            ],
            "text/plain": [
              "XGBClassifier(base_score=None, booster=None, callbacks=None,\n",
              "              colsample_bylevel=None, colsample_bynode=None,\n",
              "              colsample_bytree=None, device=None, early_stopping_rounds=None,\n",
              "              enable_categorical=False, eval_metric=None, feature_types=None,\n",
              "              gamma=None, grow_policy=None, importance_type=None,\n",
              "              interaction_constraints=None, learning_rate=None, max_bin=None,\n",
              "              max_cat_threshold=None, max_cat_to_onehot=None,\n",
              "              max_delta_step=None, max_depth=None, max_leaves=None,\n",
              "              min_child_weight=None, missing=nan, monotone_constraints=None,\n",
              "              multi_strategy=None, n_estimators=None, n_jobs=None,\n",
              "              num_parallel_tree=None, objective='multi:softprob', ...)"
            ]
          },
          "execution_count": 86,
          "metadata": {},
          "output_type": "execute_result"
        }
      ],
      "source": [
        "# Utworzenie i trening modelu XGBoost\n",
        "xgb_model = xgb.XGBClassifier()\n",
        "xgb_model.fit(X_train, y_train)"
      ]
    },
    {
      "cell_type": "code",
      "execution_count": 88,
      "metadata": {},
      "outputs": [
        {
          "name": "stdout",
          "output_type": "stream",
          "text": [
            "Classification Report XGBoost:\n",
            "Raport dla XGBoostna zestawie walidacyjnym:\n",
            "               precision    recall  f1-score   support\n",
            "\n",
            "           0       0.83      0.96      0.89       409\n",
            "           1       0.90      0.89      0.89       438\n",
            "           2       0.89      0.74      0.81       346\n",
            "\n",
            "    accuracy                           0.87      1193\n",
            "   macro avg       0.87      0.86      0.87      1193\n",
            "weighted avg       0.87      0.87      0.87      1193\n",
            "\n"
          ]
        }
      ],
      "source": [
        "# Ocena modelu na danych walidacyjnych\n",
        "y_val_pred_xgb = xgb_model.predict(X_val)\n",
        "print(\"Classification Report XGBoost:\")\n",
        "print(\"Raport dla XGBoostna zestawie walidacyjnym:\\n\", classification_report(y_val, y_val_pred_xgb))"
      ]
    },
    {
      "cell_type": "code",
      "execution_count": 89,
      "metadata": {
        "id": "1cWdp30bfT8O",
        "outputId": "0ee008f6-a019-4622-e04f-54a1f808286e"
      },
      "outputs": [
        {
          "name": "stdout",
          "output_type": "stream",
          "text": [
            "Raport dla XGBoostna zestawie testowym:\n",
            "               precision    recall  f1-score   support\n",
            "\n",
            "           0       0.80      0.96      0.87       390\n",
            "           1       0.87      0.84      0.85       455\n",
            "           2       0.91      0.74      0.81       348\n",
            "\n",
            "    accuracy                           0.85      1193\n",
            "   macro avg       0.86      0.85      0.85      1193\n",
            "weighted avg       0.86      0.85      0.85      1193\n",
            "\n"
          ]
        }
      ],
      "source": [
        "# Ocena modelu na danych testowych\n",
        "y_test_pred_xgb = xgb_model.predict(X_test)\n",
        "print(\"Raport dla XGBoostna zestawie testowym:\\n\", classification_report(y_test, y_test_pred_xgb))"
      ]
    },
    {
      "cell_type": "code",
      "execution_count": 90,
      "metadata": {},
      "outputs": [
        {
          "data": {
            "image/png": "[encoded data removed]",
            "text/plain": [
              "<Figure size 800x600 with 1 Axes>"
            ]
          },
          "metadata": {},
          "output_type": "display_data"
        }
      ],
      "source": [
        "# Krzywa ROC\n",
        "from sklearn.metrics import roc_curve, auc\n",
        "\n",
        "# Prawdopodobieństwa przewidywane przez model dla zbioru testowego\n",
        "y_probs = xgb_model.predict_proba(X_test)\n",
        "classes = [0, 1, 2]\n",
        "# Krzywa ROC dla każdej klasy\n",
        "plt.figure(figsize=(8, 6))\n",
        "for i in range(len(classes)):\n",
        "    fpr, tpr, _ = roc_curve(y_test == classes[i], y_probs[:, i])\n",
        "    roc_auc = auc(fpr, tpr)\n",
        "    plt.plot(fpr, tpr, label=f'Class {classes[i]} (AUC = {roc_auc:.2f})')\n",
        "\n",
        "plt.plot([0, 1], [0, 1], color='navy', linestyle='--')\n",
        "plt.xlabel('False Positive Rate')\n",
        "plt.ylabel('True Positive Rate')\n",
        "plt.title('ROC Curve')\n",
        "plt.legend()\n",
        "plt.show()"
      ]
    },
    {
      "cell_type": "code",
      "execution_count": 91,
      "metadata": {},
      "outputs": [
        {
          "data": {
            "text/html": [
              "<style>#sk-container-id-11 {color: black;}#sk-container-id-11 pre{padding: 0;}#sk-container-id-11 div.sk-toggleable {background-color: white;}#sk-container-id-11 label.sk-toggleable__label {cursor: pointer;display: block;width: 100%;margin-bottom: 0;padding: 0.3em;box-sizing: border-box;text-align: center;}#sk-container-id-11 label.sk-toggleable__label-arrow:before {content: \"▸\";float: left;margin-right: 0.25em;color: #696969;}#sk-container-id-11 label.sk-toggleable__label-arrow:hover:before {color: black;}#sk-container-id-11 div.sk-estimator:hover label.sk-toggleable__label-arrow:before {color: black;}#sk-container-id-11 div.sk-toggleable__content {max-height: 0;max-width: 0;overflow: hidden;text-align: left;background-color: #f0f8ff;}#sk-container-id-11 div.sk-toggleable__content pre {margin: 0.2em;color: black;border-radius: 0.25em;background-color: #f0f8ff;}#sk-container-id-11 input.sk-toggleable__control:checked~div.sk-toggleable__content {max-height: 200px;max-width: 100%;overflow: auto;}#sk-container-id-11 input.sk-toggleable__control:checked~label.sk-toggleable__label-arrow:before {content: \"▾\";}#sk-container-id-11 div.sk-estimator input.sk-toggleable__control:checked~label.sk-toggleable__label {background-color: #d4ebff;}#sk-container-id-11 div.sk-label input.sk-toggleable__control:checked~label.sk-toggleable__label {background-color: #d4ebff;}#sk-container-id-11 input.sk-hidden--visually {border: 0;clip: rect(1px 1px 1px 1px);clip: rect(1px, 1px, 1px, 1px);height: 1px;margin: -1px;overflow: hidden;padding: 0;position: absolute;width: 1px;}#sk-container-id-11 div.sk-estimator {font-family: monospace;background-color: #f0f8ff;border: 1px dotted black;border-radius: 0.25em;box-sizing: border-box;margin-bottom: 0.5em;}#sk-container-id-11 div.sk-estimator:hover {background-color: #d4ebff;}#sk-container-id-11 div.sk-parallel-item::after {content: \"\";width: 100%;border-bottom: 1px solid gray;flex-grow: 1;}#sk-container-id-11 div.sk-label:hover label.sk-toggleable__label {background-color: #d4ebff;}#sk-container-id-11 div.sk-serial::before {content: \"\";position: absolute;border-left: 1px solid gray;box-sizing: border-box;top: 0;bottom: 0;left: 50%;z-index: 0;}#sk-container-id-11 div.sk-serial {display: flex;flex-direction: column;align-items: center;background-color: white;padding-right: 0.2em;padding-left: 0.2em;position: relative;}#sk-container-id-11 div.sk-item {position: relative;z-index: 1;}#sk-container-id-11 div.sk-parallel {display: flex;align-items: stretch;justify-content: center;background-color: white;position: relative;}#sk-container-id-11 div.sk-item::before, #sk-container-id-11 div.sk-parallel-item::before {content: \"\";position: absolute;border-left: 1px solid gray;box-sizing: border-box;top: 0;bottom: 0;left: 50%;z-index: -1;}#sk-container-id-11 div.sk-parallel-item {display: flex;flex-direction: column;z-index: 1;position: relative;background-color: white;}#sk-container-id-11 div.sk-parallel-item:first-child::after {align-self: flex-end;width: 50%;}#sk-container-id-11 div.sk-parallel-item:last-child::after {align-self: flex-start;width: 50%;}#sk-container-id-11 div.sk-parallel-item:only-child::after {width: 0;}#sk-container-id-11 div.sk-dashed-wrapped {border: 1px dashed gray;margin: 0 0.4em 0.5em 0.4em;box-sizing: border-box;padding-bottom: 0.4em;background-color: white;}#sk-container-id-11 div.sk-label label {font-family: monospace;font-weight: bold;display: inline-block;line-height: 1.2em;}#sk-container-id-11 div.sk-label-container {text-align: center;}#sk-container-id-11 div.sk-container {/* jupyter's `normalize.less` sets `[hidden] { display: none; }` but bootstrap.min.css set `[hidden] { display: none !important; }` so we also need the `!important` here to be able to override the default hidden behavior on the sphinx rendered scikit-learn.org. See: https://github.com/scikit-learn/scikit-learn/issues/21755 */display: inline-block !important;position: relative;}#sk-container-id-11 div.sk-text-repr-fallback {display: none;}</style><div id=\"sk-container-id-11\" class=\"sk-top-container\"><div class=\"sk-text-repr-fallback\"><pre>XGBClassifier(base_score=None, booster=None, callbacks=None,\n",
              "              colsample_bylevel=None, colsample_bynode=None,\n",
              "              colsample_bytree=None, device=None, early_stopping_rounds=None,\n",
              "              enable_categorical=False, eval_metric=&#x27;merror&#x27;,\n",
              "              feature_types=None, gamma=None, grow_policy=None,\n",
              "              importance_type=None, interaction_constraints=None,\n",
              "              learning_rate=0.1, max_bin=None, max_cat_threshold=None,\n",
              "              max_cat_to_onehot=None, max_delta_step=None, max_depth=3,\n",
              "              max_leaves=None, min_child_weight=None, missing=nan,\n",
              "              monotone_constraints=None, multi_strategy=None, n_estimators=None,\n",
              "              n_jobs=None, num_parallel_tree=None, objective=&#x27;multi:softmax&#x27;, ...)</pre><b>In a Jupyter environment, please rerun this cell to show the HTML representation or trust the notebook. <br />On GitHub, the HTML representation is unable to render, please try loading this page with nbviewer.org.</b></div><div class=\"sk-container\" hidden><div class=\"sk-item\"><div class=\"sk-estimator sk-toggleable\"><input class=\"sk-toggleable__control sk-hidden--visually\" id=\"sk-estimator-id-11\" type=\"checkbox\" checked><label for=\"sk-estimator-id-11\" class=\"sk-toggleable__label sk-toggleable__label-arrow\">XGBClassifier</label><div class=\"sk-toggleable__content\"><pre>XGBClassifier(base_score=None, booster=None, callbacks=None,\n",
              "              colsample_bylevel=None, colsample_bynode=None,\n",
              "              colsample_bytree=None, device=None, early_stopping_rounds=None,\n",
              "              enable_categorical=False, eval_metric=&#x27;merror&#x27;,\n",
              "              feature_types=None, gamma=None, grow_policy=None,\n",
              "              importance_type=None, interaction_constraints=None,\n",
              "              learning_rate=0.1, max_bin=None, max_cat_threshold=None,\n",
              "              max_cat_to_onehot=None, max_delta_step=None, max_depth=3,\n",
              "              max_leaves=None, min_child_weight=None, missing=nan,\n",
              "              monotone_constraints=None, multi_strategy=None, n_estimators=None,\n",
              "              n_jobs=None, num_parallel_tree=None, objective=&#x27;multi:softmax&#x27;, ...)</pre></div></div></div></div></div>"
            ],
            "text/plain": [
              "XGBClassifier(base_score=None, booster=None, callbacks=None,\n",
              "              colsample_bylevel=None, colsample_bynode=None,\n",
              "              colsample_bytree=None, device=None, early_stopping_rounds=None,\n",
              "              enable_categorical=False, eval_metric='merror',\n",
              "              feature_types=None, gamma=None, grow_policy=None,\n",
              "              importance_type=None, interaction_constraints=None,\n",
              "              learning_rate=0.1, max_bin=None, max_cat_threshold=None,\n",
              "              max_cat_to_onehot=None, max_delta_step=None, max_depth=3,\n",
              "              max_leaves=None, min_child_weight=None, missing=nan,\n",
              "              monotone_constraints=None, multi_strategy=None, n_estimators=None,\n",
              "              n_jobs=None, num_parallel_tree=None, objective='multi:softmax', ...)"
            ]
          },
          "execution_count": 91,
          "metadata": {},
          "output_type": "execute_result"
        }
      ],
      "source": [
        "#ver2\n",
        "xgb_model_ver2 = xgb.XGBClassifier(objective='multi:softmax', eval_metric='merror', max_depth=3, learning_rate=0.1)\n",
        "xgb_model_ver2.fit(X_train, y_train)"
      ]
    },
    {
      "cell_type": "code",
      "execution_count": 92,
      "metadata": {},
      "outputs": [
        {
          "name": "stdout",
          "output_type": "stream",
          "text": [
            "Classification Report XGBoost:\n",
            "Raport dla XGBoostna zestawie walidacyjnym:\n",
            "               precision    recall  f1-score   support\n",
            "\n",
            "           0       0.83      0.96      0.89       409\n",
            "           1       0.90      0.89      0.89       438\n",
            "           2       0.89      0.74      0.81       346\n",
            "\n",
            "    accuracy                           0.87      1193\n",
            "   macro avg       0.87      0.86      0.87      1193\n",
            "weighted avg       0.87      0.87      0.87      1193\n",
            "\n"
          ]
        }
      ],
      "source": [
        "y_val_pred_xgb_ver2 = xgb_model.predict(X_val)\n",
        "print(\"Classification Report XGBoost:\")\n",
        "print(\"Raport dla XGBoostna zestawie walidacyjnym:\\n\", classification_report(y_val, y_val_pred_xgb_ver2))"
      ]
    },
    {
      "cell_type": "code",
      "execution_count": 93,
      "metadata": {},
      "outputs": [
        {
          "name": "stdout",
          "output_type": "stream",
          "text": [
            "Classification Report XGBoost:\n",
            "Raport dla XGBoostna zestawie walidacyjnym:\n",
            "               precision    recall  f1-score   support\n",
            "\n",
            "           0       0.80      0.96      0.87       390\n",
            "           1       0.87      0.84      0.85       455\n",
            "           2       0.91      0.74      0.81       348\n",
            "\n",
            "    accuracy                           0.85      1193\n",
            "   macro avg       0.86      0.85      0.85      1193\n",
            "weighted avg       0.86      0.85      0.85      1193\n",
            "\n"
          ]
        }
      ],
      "source": [
        "y_test_pred_xgb_ver2 = xgb_model.predict(X_test)\n",
        "print(\"Classification Report XGBoost:\")\n",
        "print(\"Raport dla XGBoostna zestawie walidacyjnym:\\n\", classification_report(y_test, y_test_pred_xgb_ver2))"
      ]
    }
  ],
  "metadata": {
    "colab": {
      "provenance": []
    },
    "kernelspec": {
      "display_name": "Python 3",
      "language": "python",
      "name": "python3"
    },
    "language_info": {
      "codemirror_mode": {
        "name": "ipython",
        "version": 3
      },
      "file_extension": ".py",
      "mimetype": "text/x-python",
      "name": "python",
      "nbconvert_exporter": "python",
      "pygments_lexer": "ipython3",
      "version": "3.11.6"
    }
  },
  "nbformat": 4,
  "nbformat_minor": 0
}
